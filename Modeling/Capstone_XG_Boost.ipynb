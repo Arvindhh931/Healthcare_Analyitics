{
 "cells": [
  {
   "cell_type": "code",
   "execution_count": 2,
   "id": "f1b47156",
   "metadata": {},
   "outputs": [],
   "source": [
    "from warnings import filterwarnings\n",
    "filterwarnings(action='ignore')\n",
    "\n",
    "import numpy as np\n",
    "import pandas as pd\n",
    "\n",
    "import matplotlib.pyplot as plt\n",
    "import matplotlib.patches as mpatches\n",
    "import seaborn as sns\n",
    "import plotly.express as px\n",
    "\n",
    "import scipy.stats as stats\n",
    "from scipy.stats import zscore\n",
    "\n",
    "from sklearn.metrics import classification_report,accuracy_score,precision_score,confusion_matrix\n",
    "from sklearn.metrics import recall_score,f1_score,balanced_accuracy_score,roc_curve\n",
    "from sklearn.metrics import precision_recall_curve,log_loss,cohen_kappa_score,roc_auc_score\n",
    "\n",
    "from sklearn.model_selection import StratifiedKFold,cross_val_score,train_test_split\n",
    "from sklearn.model_selection import GridSearchCV,RandomizedSearchCV\n",
    "\n",
    "from sklearn.tree import DecisionTreeClassifier\n",
    "from sklearn.ensemble import RandomForestClassifier,BaggingClassifier,VotingClassifier\n",
    "\n",
    "import re\n",
    "\n",
    "from sklearn.feature_selection import SelectKBest,VarianceThreshold\n",
    "\n",
    "from xgboost import XGBClassifier\n",
    "from sklearn.ensemble import AdaBoostClassifier,GradientBoostingClassifier"
   ]
  },
  {
   "cell_type": "code",
   "execution_count": 3,
   "id": "ff153bdb",
   "metadata": {},
   "outputs": [],
   "source": [
    "from User_defined_functions import cv_report"
   ]
  },
  {
   "cell_type": "code",
   "execution_count": 4,
   "id": "ccc2e308",
   "metadata": {},
   "outputs": [],
   "source": [
    "link_nc_rf = 'F:\\GREAT LAKES\\PROJECT\\CAPSTONE\\SMOTE_NC_Decision_Tree&_Random_Forest_data\\SMOTENC_Dummy_encoded_data_reduced_size.csv'"
   ]
  },
  {
   "cell_type": "code",
   "execution_count": 5,
   "id": "69095b59",
   "metadata": {},
   "outputs": [],
   "source": [
    "df = pd.read_csv(link_nc_rf)\n",
    "df = df.iloc[:,1:]"
   ]
  },
  {
   "cell_type": "code",
   "execution_count": 6,
   "id": "651c4126",
   "metadata": {},
   "outputs": [],
   "source": [
    "df_tree = df.copy()"
   ]
  },
  {
   "cell_type": "code",
   "execution_count": 7,
   "id": "64904183",
   "metadata": {},
   "outputs": [],
   "source": [
    "Training_data = df_tree.drop('readmitted',1)\n",
    "Target_balanced = df_tree[['readmitted']]"
   ]
  },
  {
   "cell_type": "code",
   "execution_count": 8,
   "id": "702ab92a",
   "metadata": {},
   "outputs": [
    {
     "name": "stdout",
     "output_type": "stream",
     "text": [
      "{'troglitazone', 'acetohexamide', 'glimepiride-pioglitazone', 'metformin-pioglitazone', 'metformin-rosiglitazone'}\n"
     ]
    }
   ],
   "source": [
    "patient_info = ['race', 'gender', 'age', 'admission_type_id',\n",
    "                'discharge_disposition_id','admission_source_id',\n",
    "                'medical_specialty','diagnosis_1','diagnosis_2', 'diagnosis_3',\n",
    "                'max_glu_serum', 'A1Cresult','change', 'diabetesMed']\n",
    "\n",
    "# Features which contains no information\n",
    "drop_list_patient_info = ['encounter_id','patient_nbr','weight','payer_code']\n",
    "\n",
    "# Numeric features\n",
    "patient_info_numeric = ['time_in_hospital','num_lab_procedures',\n",
    "                        'num_procedures','num_medications',\n",
    "                        'number_outpatient','number_emergency',\n",
    "                        'number_inpatient','number_diagnoses']\n",
    "\n",
    "# Taking initial decision to keep 16 features\n",
    "feature_medicine = ['metformin','repaglinide', 'nateglinide', \n",
    "                     'chlorpropamide', 'glimepiride', 'glipizide', \n",
    "                     'glyburide', 'tolbutamide','pioglitazone',\n",
    "                     'rosiglitazone', 'acarbose', 'miglitol','tolazamide',\n",
    "                     'insulin','glyburide-metformin', 'glipizide-metformin']\n",
    "\n",
    "# Initial decision to remove 7 features\n",
    "drop_list_medicine = ['acetohexamide','troglitazone','examide','citoglipton',\n",
    "                      'glimepiride-pioglitazone','metformin-rosiglitazone',\n",
    "                      'metformin-pioglitazone']\n",
    "\n",
    "\n",
    "# The medicines which contains 'Steady' & 'No' for encoding purpose\n",
    "two_category_medicine = ['acetohexamide', 'tolbutamide', 'troglitazone',\n",
    "                         'glipizide-metformin', 'glimepiride-pioglitazone',\n",
    "                         'metformin-rosiglitazone', 'metformin-pioglitazone']\n",
    "# ------------------------------------------------------------------\n",
    "# The medicines which contains 'Steady','Up','Down' & 'No' for encoding purpose (14)\n",
    "four_category_medicine = ['metformin','repaglinide', 'nateglinide', 'chlorpropamide',\n",
    "                          'glimepiride','glipizide','glyburide','pioglitazone','rosiglitazone',\n",
    "                          'acarbose','miglitol','tolazamide','insulin','glyburide-metformin'] \n",
    "# ------------------------------------------------------------------\n",
    "# considering these two medicines with only 'steady' & 'No' categories for encoding purpose\n",
    "two_category_medicine_to_be_kept = ['tolbutamide','glipizide-metformin']\n",
    "# ------------------------------------------------------------------                                                \n",
    "# Out of initial removal decision, these 2 are compulsorily removed.\n",
    "single_category_medicine = ['examide', 'citoglipton']\n",
    "                                             \n",
    "\n",
    "print(set(drop_list_medicine) & set(two_category_medicine))\n",
    "\n",
    "dependent = 'readmitted'"
   ]
  },
  {
   "cell_type": "code",
   "execution_count": 9,
   "id": "f509d0e9",
   "metadata": {},
   "outputs": [],
   "source": [
    "def cv_report(Model,Training_data,Target_imbalanced):\n",
    "    X_train, X_test, y_train, y_test = train_test_split(Training_data,Target_imbalanced,\n",
    "                                                        test_size=0.25, random_state=42,\n",
    "                                                        stratify=Target_imbalanced)\n",
    "    ba = cross_val_score(Model,X_train,y_train,cv=StratifiedKFold(),\n",
    "                         scoring='balanced_accuracy').mean()\n",
    "    pr = cross_val_score(Model,X_train,y_train,cv=StratifiedKFold(),scoring='precision').mean()\n",
    "    re = cross_val_score(Model,X_train,y_train,cv=StratifiedKFold(),scoring='recall').mean()\n",
    "    f1 = cross_val_score(Model,X_train,y_train,cv=StratifiedKFold(),scoring='f1').mean()\n",
    "    print(f\"Balanced accuracy : {ba}\")\n",
    "    print(f\"Precision : {pr}\")\n",
    "    print(f\"recall : {re}\")\n",
    "    print(f\"F1-score : {f1}\")"
   ]
  },
  {
   "cell_type": "code",
   "execution_count": 11,
   "id": "22f8e0ae",
   "metadata": {},
   "outputs": [],
   "source": [
    "X_train, X_test, y_train, y_test = train_test_split(Training_data,Target_balanced, \n",
    "                                                    test_size=0.25,random_state=93)"
   ]
  },
  {
   "cell_type": "code",
   "execution_count": 12,
   "id": "59228bd5",
   "metadata": {},
   "outputs": [],
   "source": [
    "Xg_model = XGBClassifier(n_estimators=150,max_depth=4)"
   ]
  },
  {
   "cell_type": "code",
   "execution_count": 13,
   "id": "3d2f6251",
   "metadata": {},
   "outputs": [],
   "source": [
    "trans = dict([(column,\"more_than_\".join((column.split(\">\")))) if '>' in column \n",
    "              else (column,\"(\".join((column.split(\"[\")))) if '[' in column \n",
    "              else (column,column) for column in X_train.columns.to_list()])"
   ]
  },
  {
   "cell_type": "code",
   "execution_count": 14,
   "id": "d9660925",
   "metadata": {},
   "outputs": [],
   "source": [
    "X_train_xg = X_train.rename(columns=trans)"
   ]
  },
  {
   "cell_type": "code",
   "execution_count": 15,
   "id": "46357431",
   "metadata": {},
   "outputs": [],
   "source": [
    "X_test_xg = X_test.rename(columns=trans)"
   ]
  },
  {
   "cell_type": "code",
   "execution_count": 16,
   "id": "ce656e4e",
   "metadata": {},
   "outputs": [
    {
     "data": {
      "text/html": [
       "<style>#sk-container-id-1 {color: black;background-color: white;}#sk-container-id-1 pre{padding: 0;}#sk-container-id-1 div.sk-toggleable {background-color: white;}#sk-container-id-1 label.sk-toggleable__label {cursor: pointer;display: block;width: 100%;margin-bottom: 0;padding: 0.3em;box-sizing: border-box;text-align: center;}#sk-container-id-1 label.sk-toggleable__label-arrow:before {content: \"▸\";float: left;margin-right: 0.25em;color: #696969;}#sk-container-id-1 label.sk-toggleable__label-arrow:hover:before {color: black;}#sk-container-id-1 div.sk-estimator:hover label.sk-toggleable__label-arrow:before {color: black;}#sk-container-id-1 div.sk-toggleable__content {max-height: 0;max-width: 0;overflow: hidden;text-align: left;background-color: #f0f8ff;}#sk-container-id-1 div.sk-toggleable__content pre {margin: 0.2em;color: black;border-radius: 0.25em;background-color: #f0f8ff;}#sk-container-id-1 input.sk-toggleable__control:checked~div.sk-toggleable__content {max-height: 200px;max-width: 100%;overflow: auto;}#sk-container-id-1 input.sk-toggleable__control:checked~label.sk-toggleable__label-arrow:before {content: \"▾\";}#sk-container-id-1 div.sk-estimator input.sk-toggleable__control:checked~label.sk-toggleable__label {background-color: #d4ebff;}#sk-container-id-1 div.sk-label input.sk-toggleable__control:checked~label.sk-toggleable__label {background-color: #d4ebff;}#sk-container-id-1 input.sk-hidden--visually {border: 0;clip: rect(1px 1px 1px 1px);clip: rect(1px, 1px, 1px, 1px);height: 1px;margin: -1px;overflow: hidden;padding: 0;position: absolute;width: 1px;}#sk-container-id-1 div.sk-estimator {font-family: monospace;background-color: #f0f8ff;border: 1px dotted black;border-radius: 0.25em;box-sizing: border-box;margin-bottom: 0.5em;}#sk-container-id-1 div.sk-estimator:hover {background-color: #d4ebff;}#sk-container-id-1 div.sk-parallel-item::after {content: \"\";width: 100%;border-bottom: 1px solid gray;flex-grow: 1;}#sk-container-id-1 div.sk-label:hover label.sk-toggleable__label {background-color: #d4ebff;}#sk-container-id-1 div.sk-serial::before {content: \"\";position: absolute;border-left: 1px solid gray;box-sizing: border-box;top: 0;bottom: 0;left: 50%;z-index: 0;}#sk-container-id-1 div.sk-serial {display: flex;flex-direction: column;align-items: center;background-color: white;padding-right: 0.2em;padding-left: 0.2em;position: relative;}#sk-container-id-1 div.sk-item {position: relative;z-index: 1;}#sk-container-id-1 div.sk-parallel {display: flex;align-items: stretch;justify-content: center;background-color: white;position: relative;}#sk-container-id-1 div.sk-item::before, #sk-container-id-1 div.sk-parallel-item::before {content: \"\";position: absolute;border-left: 1px solid gray;box-sizing: border-box;top: 0;bottom: 0;left: 50%;z-index: -1;}#sk-container-id-1 div.sk-parallel-item {display: flex;flex-direction: column;z-index: 1;position: relative;background-color: white;}#sk-container-id-1 div.sk-parallel-item:first-child::after {align-self: flex-end;width: 50%;}#sk-container-id-1 div.sk-parallel-item:last-child::after {align-self: flex-start;width: 50%;}#sk-container-id-1 div.sk-parallel-item:only-child::after {width: 0;}#sk-container-id-1 div.sk-dashed-wrapped {border: 1px dashed gray;margin: 0 0.4em 0.5em 0.4em;box-sizing: border-box;padding-bottom: 0.4em;background-color: white;}#sk-container-id-1 div.sk-label label {font-family: monospace;font-weight: bold;display: inline-block;line-height: 1.2em;}#sk-container-id-1 div.sk-label-container {text-align: center;}#sk-container-id-1 div.sk-container {/* jupyter's `normalize.less` sets `[hidden] { display: none; }` but bootstrap.min.css set `[hidden] { display: none !important; }` so we also need the `!important` here to be able to override the default hidden behavior on the sphinx rendered scikit-learn.org. See: https://github.com/scikit-learn/scikit-learn/issues/21755 */display: inline-block !important;position: relative;}#sk-container-id-1 div.sk-text-repr-fallback {display: none;}</style><div id=\"sk-container-id-1\" class=\"sk-top-container\"><div class=\"sk-text-repr-fallback\"><pre>XGBClassifier(base_score=0.5, booster=&#x27;gbtree&#x27;, callbacks=None,\n",
       "              colsample_bylevel=1, colsample_bynode=1, colsample_bytree=1,\n",
       "              early_stopping_rounds=None, enable_categorical=False,\n",
       "              eval_metric=None, gamma=0, gpu_id=-1, grow_policy=&#x27;depthwise&#x27;,\n",
       "              importance_type=None, interaction_constraints=&#x27;&#x27;,\n",
       "              learning_rate=0.300000012, max_bin=256, max_cat_to_onehot=4,\n",
       "              max_delta_step=0, max_depth=4, max_leaves=0, min_child_weight=1,\n",
       "              missing=nan, monotone_constraints=&#x27;()&#x27;, n_estimators=150,\n",
       "              n_jobs=0, num_parallel_tree=1, predictor=&#x27;auto&#x27;, random_state=0,\n",
       "              reg_alpha=0, reg_lambda=1, ...)</pre><b>In a Jupyter environment, please rerun this cell to show the HTML representation or trust the notebook. <br />On GitHub, the HTML representation is unable to render, please try loading this page with nbviewer.org.</b></div><div class=\"sk-container\" hidden><div class=\"sk-item\"><div class=\"sk-estimator sk-toggleable\"><input class=\"sk-toggleable__control sk-hidden--visually\" id=\"sk-estimator-id-1\" type=\"checkbox\" checked><label for=\"sk-estimator-id-1\" class=\"sk-toggleable__label sk-toggleable__label-arrow\">XGBClassifier</label><div class=\"sk-toggleable__content\"><pre>XGBClassifier(base_score=0.5, booster=&#x27;gbtree&#x27;, callbacks=None,\n",
       "              colsample_bylevel=1, colsample_bynode=1, colsample_bytree=1,\n",
       "              early_stopping_rounds=None, enable_categorical=False,\n",
       "              eval_metric=None, gamma=0, gpu_id=-1, grow_policy=&#x27;depthwise&#x27;,\n",
       "              importance_type=None, interaction_constraints=&#x27;&#x27;,\n",
       "              learning_rate=0.300000012, max_bin=256, max_cat_to_onehot=4,\n",
       "              max_delta_step=0, max_depth=4, max_leaves=0, min_child_weight=1,\n",
       "              missing=nan, monotone_constraints=&#x27;()&#x27;, n_estimators=150,\n",
       "              n_jobs=0, num_parallel_tree=1, predictor=&#x27;auto&#x27;, random_state=0,\n",
       "              reg_alpha=0, reg_lambda=1, ...)</pre></div></div></div></div></div>"
      ],
      "text/plain": [
       "XGBClassifier(base_score=0.5, booster='gbtree', callbacks=None,\n",
       "              colsample_bylevel=1, colsample_bynode=1, colsample_bytree=1,\n",
       "              early_stopping_rounds=None, enable_categorical=False,\n",
       "              eval_metric=None, gamma=0, gpu_id=-1, grow_policy='depthwise',\n",
       "              importance_type=None, interaction_constraints='',\n",
       "              learning_rate=0.300000012, max_bin=256, max_cat_to_onehot=4,\n",
       "              max_delta_step=0, max_depth=4, max_leaves=0, min_child_weight=1,\n",
       "              missing=nan, monotone_constraints='()', n_estimators=150,\n",
       "              n_jobs=0, num_parallel_tree=1, predictor='auto', random_state=0,\n",
       "              reg_alpha=0, reg_lambda=1, ...)"
      ]
     },
     "execution_count": 16,
     "metadata": {},
     "output_type": "execute_result"
    }
   ],
   "source": [
    "Xg_model.fit(X_train_xg,y_train)"
   ]
  },
  {
   "cell_type": "code",
   "execution_count": 17,
   "id": "3daaf85e",
   "metadata": {},
   "outputs": [
    {
     "name": "stdout",
     "output_type": "stream",
     "text": [
      "              precision    recall  f1-score   support\n",
      "\n",
      "           0       0.88      0.99      0.93     67220\n",
      "           1       0.99      0.86      0.92     67286\n",
      "\n",
      "    accuracy                           0.93    134506\n",
      "   macro avg       0.94      0.93      0.93    134506\n",
      "weighted avg       0.94      0.93      0.93    134506\n",
      "\n"
     ]
    }
   ],
   "source": [
    "print(classification_report(y_train,Xg_model.predict(X_train_xg)))"
   ]
  },
  {
   "cell_type": "code",
   "execution_count": 18,
   "id": "074ce461",
   "metadata": {},
   "outputs": [],
   "source": [
    "XG_features = [column for column,importance in zip(X_train_xg.columns.to_list(),Xg_model.feature_importances_.tolist()) \n",
    " if importance > 0]"
   ]
  },
  {
   "cell_type": "code",
   "execution_count": null,
   "id": "c8866ba2",
   "metadata": {},
   "outputs": [],
   "source": [
    "len(XG_features)"
   ]
  },
  {
   "cell_type": "code",
   "execution_count": 19,
   "id": "9551111d",
   "metadata": {},
   "outputs": [
    {
     "data": {
      "text/html": [
       "<style>#sk-container-id-2 {color: black;background-color: white;}#sk-container-id-2 pre{padding: 0;}#sk-container-id-2 div.sk-toggleable {background-color: white;}#sk-container-id-2 label.sk-toggleable__label {cursor: pointer;display: block;width: 100%;margin-bottom: 0;padding: 0.3em;box-sizing: border-box;text-align: center;}#sk-container-id-2 label.sk-toggleable__label-arrow:before {content: \"▸\";float: left;margin-right: 0.25em;color: #696969;}#sk-container-id-2 label.sk-toggleable__label-arrow:hover:before {color: black;}#sk-container-id-2 div.sk-estimator:hover label.sk-toggleable__label-arrow:before {color: black;}#sk-container-id-2 div.sk-toggleable__content {max-height: 0;max-width: 0;overflow: hidden;text-align: left;background-color: #f0f8ff;}#sk-container-id-2 div.sk-toggleable__content pre {margin: 0.2em;color: black;border-radius: 0.25em;background-color: #f0f8ff;}#sk-container-id-2 input.sk-toggleable__control:checked~div.sk-toggleable__content {max-height: 200px;max-width: 100%;overflow: auto;}#sk-container-id-2 input.sk-toggleable__control:checked~label.sk-toggleable__label-arrow:before {content: \"▾\";}#sk-container-id-2 div.sk-estimator input.sk-toggleable__control:checked~label.sk-toggleable__label {background-color: #d4ebff;}#sk-container-id-2 div.sk-label input.sk-toggleable__control:checked~label.sk-toggleable__label {background-color: #d4ebff;}#sk-container-id-2 input.sk-hidden--visually {border: 0;clip: rect(1px 1px 1px 1px);clip: rect(1px, 1px, 1px, 1px);height: 1px;margin: -1px;overflow: hidden;padding: 0;position: absolute;width: 1px;}#sk-container-id-2 div.sk-estimator {font-family: monospace;background-color: #f0f8ff;border: 1px dotted black;border-radius: 0.25em;box-sizing: border-box;margin-bottom: 0.5em;}#sk-container-id-2 div.sk-estimator:hover {background-color: #d4ebff;}#sk-container-id-2 div.sk-parallel-item::after {content: \"\";width: 100%;border-bottom: 1px solid gray;flex-grow: 1;}#sk-container-id-2 div.sk-label:hover label.sk-toggleable__label {background-color: #d4ebff;}#sk-container-id-2 div.sk-serial::before {content: \"\";position: absolute;border-left: 1px solid gray;box-sizing: border-box;top: 0;bottom: 0;left: 50%;z-index: 0;}#sk-container-id-2 div.sk-serial {display: flex;flex-direction: column;align-items: center;background-color: white;padding-right: 0.2em;padding-left: 0.2em;position: relative;}#sk-container-id-2 div.sk-item {position: relative;z-index: 1;}#sk-container-id-2 div.sk-parallel {display: flex;align-items: stretch;justify-content: center;background-color: white;position: relative;}#sk-container-id-2 div.sk-item::before, #sk-container-id-2 div.sk-parallel-item::before {content: \"\";position: absolute;border-left: 1px solid gray;box-sizing: border-box;top: 0;bottom: 0;left: 50%;z-index: -1;}#sk-container-id-2 div.sk-parallel-item {display: flex;flex-direction: column;z-index: 1;position: relative;background-color: white;}#sk-container-id-2 div.sk-parallel-item:first-child::after {align-self: flex-end;width: 50%;}#sk-container-id-2 div.sk-parallel-item:last-child::after {align-self: flex-start;width: 50%;}#sk-container-id-2 div.sk-parallel-item:only-child::after {width: 0;}#sk-container-id-2 div.sk-dashed-wrapped {border: 1px dashed gray;margin: 0 0.4em 0.5em 0.4em;box-sizing: border-box;padding-bottom: 0.4em;background-color: white;}#sk-container-id-2 div.sk-label label {font-family: monospace;font-weight: bold;display: inline-block;line-height: 1.2em;}#sk-container-id-2 div.sk-label-container {text-align: center;}#sk-container-id-2 div.sk-container {/* jupyter's `normalize.less` sets `[hidden] { display: none; }` but bootstrap.min.css set `[hidden] { display: none !important; }` so we also need the `!important` here to be able to override the default hidden behavior on the sphinx rendered scikit-learn.org. See: https://github.com/scikit-learn/scikit-learn/issues/21755 */display: inline-block !important;position: relative;}#sk-container-id-2 div.sk-text-repr-fallback {display: none;}</style><div id=\"sk-container-id-2\" class=\"sk-top-container\"><div class=\"sk-text-repr-fallback\"><pre>XGBClassifier(base_score=0.5, booster=&#x27;gbtree&#x27;, callbacks=None,\n",
       "              colsample_bylevel=1, colsample_bynode=1, colsample_bytree=1,\n",
       "              early_stopping_rounds=None, enable_categorical=False,\n",
       "              eval_metric=None, gamma=0, gpu_id=-1, grow_policy=&#x27;depthwise&#x27;,\n",
       "              importance_type=None, interaction_constraints=&#x27;&#x27;,\n",
       "              learning_rate=0.300000012, max_bin=256, max_cat_to_onehot=4,\n",
       "              max_delta_step=0, max_depth=4, max_leaves=0, min_child_weight=1,\n",
       "              missing=nan, monotone_constraints=&#x27;()&#x27;, n_estimators=150,\n",
       "              n_jobs=0, num_parallel_tree=1, predictor=&#x27;auto&#x27;, random_state=0,\n",
       "              reg_alpha=0, reg_lambda=1, ...)</pre><b>In a Jupyter environment, please rerun this cell to show the HTML representation or trust the notebook. <br />On GitHub, the HTML representation is unable to render, please try loading this page with nbviewer.org.</b></div><div class=\"sk-container\" hidden><div class=\"sk-item\"><div class=\"sk-estimator sk-toggleable\"><input class=\"sk-toggleable__control sk-hidden--visually\" id=\"sk-estimator-id-2\" type=\"checkbox\" checked><label for=\"sk-estimator-id-2\" class=\"sk-toggleable__label sk-toggleable__label-arrow\">XGBClassifier</label><div class=\"sk-toggleable__content\"><pre>XGBClassifier(base_score=0.5, booster=&#x27;gbtree&#x27;, callbacks=None,\n",
       "              colsample_bylevel=1, colsample_bynode=1, colsample_bytree=1,\n",
       "              early_stopping_rounds=None, enable_categorical=False,\n",
       "              eval_metric=None, gamma=0, gpu_id=-1, grow_policy=&#x27;depthwise&#x27;,\n",
       "              importance_type=None, interaction_constraints=&#x27;&#x27;,\n",
       "              learning_rate=0.300000012, max_bin=256, max_cat_to_onehot=4,\n",
       "              max_delta_step=0, max_depth=4, max_leaves=0, min_child_weight=1,\n",
       "              missing=nan, monotone_constraints=&#x27;()&#x27;, n_estimators=150,\n",
       "              n_jobs=0, num_parallel_tree=1, predictor=&#x27;auto&#x27;, random_state=0,\n",
       "              reg_alpha=0, reg_lambda=1, ...)</pre></div></div></div></div></div>"
      ],
      "text/plain": [
       "XGBClassifier(base_score=0.5, booster='gbtree', callbacks=None,\n",
       "              colsample_bylevel=1, colsample_bynode=1, colsample_bytree=1,\n",
       "              early_stopping_rounds=None, enable_categorical=False,\n",
       "              eval_metric=None, gamma=0, gpu_id=-1, grow_policy='depthwise',\n",
       "              importance_type=None, interaction_constraints='',\n",
       "              learning_rate=0.300000012, max_bin=256, max_cat_to_onehot=4,\n",
       "              max_delta_step=0, max_depth=4, max_leaves=0, min_child_weight=1,\n",
       "              missing=nan, monotone_constraints='()', n_estimators=150,\n",
       "              n_jobs=0, num_parallel_tree=1, predictor='auto', random_state=0,\n",
       "              reg_alpha=0, reg_lambda=1, ...)"
      ]
     },
     "execution_count": 19,
     "metadata": {},
     "output_type": "execute_result"
    }
   ],
   "source": [
    "Xg_model_imp = XGBClassifier(n_estimators=150,max_depth=4)\n",
    "Xg_model_imp.fit(X_train_xg[XG_features],y_train)"
   ]
  },
  {
   "cell_type": "code",
   "execution_count": 20,
   "id": "ab172f05",
   "metadata": {},
   "outputs": [
    {
     "name": "stdout",
     "output_type": "stream",
     "text": [
      "              precision    recall  f1-score   support\n",
      "\n",
      "           0       0.88      0.99      0.93     67220\n",
      "           1       0.99      0.86      0.92     67286\n",
      "\n",
      "    accuracy                           0.93    134506\n",
      "   macro avg       0.94      0.93      0.93    134506\n",
      "weighted avg       0.94      0.93      0.93    134506\n",
      "\n"
     ]
    }
   ],
   "source": [
    "print(classification_report(y_train,Xg_model_imp.predict(X_train_xg[XG_features])))"
   ]
  },
  {
   "cell_type": "code",
   "execution_count": 21,
   "id": "fe62f7e6",
   "metadata": {},
   "outputs": [
    {
     "name": "stdout",
     "output_type": "stream",
     "text": [
      "              precision    recall  f1-score   support\n",
      "\n",
      "           0       0.88      0.99      0.93     22451\n",
      "           1       0.99      0.86      0.92     22385\n",
      "\n",
      "    accuracy                           0.92     44836\n",
      "   macro avg       0.93      0.92      0.92     44836\n",
      "weighted avg       0.93      0.92      0.92     44836\n",
      "\n"
     ]
    }
   ],
   "source": [
    "print(classification_report(y_test,Xg_model_imp.predict(X_test_xg[XG_features])))"
   ]
  }
 ],
 "metadata": {
  "kernelspec": {
   "display_name": "Python 3",
   "language": "python",
   "name": "python3"
  },
  "language_info": {
   "codemirror_mode": {
    "name": "ipython",
    "version": 3
   },
   "file_extension": ".py",
   "mimetype": "text/x-python",
   "name": "python",
   "nbconvert_exporter": "python",
   "pygments_lexer": "ipython3",
   "version": "3.8.8"
  }
 },
 "nbformat": 4,
 "nbformat_minor": 5
}

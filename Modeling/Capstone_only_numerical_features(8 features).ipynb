{
 "cells": [
  {
   "cell_type": "code",
   "execution_count": 445,
   "id": "50065783",
   "metadata": {},
   "outputs": [],
   "source": [
    "from warnings import filterwarnings\n",
    "filterwarnings(action='ignore')\n",
    "\n",
    "import numpy as np\n",
    "import pandas as pd\n",
    "\n",
    "import matplotlib.pyplot as plt\n",
    "import matplotlib.patches as mpatches\n",
    "import seaborn as sns\n",
    "sns.set_style('darkgrid')\n",
    "import plotly.express as px\n",
    "\n",
    "import scipy.stats as stats\n",
    "from scipy.stats import zscore\n",
    "\n",
    "from sklearn.preprocessing import LabelEncoder,OneHotEncoder,OrdinalEncoder\n",
    "from sklearn.preprocessing import PolynomialFeatures,PowerTransformer,StandardScaler\n",
    "\n",
    "from sklearn.pipeline import Pipeline,make_pipeline\n",
    "from sklearn.compose import ColumnTransformer\n",
    "from sklearn.compose import make_column_selector as selector\n",
    "\n",
    "from sklearn.metrics import classification_report,accuracy_score,precision_score,confusion_matrix\n",
    "from sklearn.metrics import recall_score,f1_score,balanced_accuracy_score\n",
    "from sklearn.metrics import precision_recall_curve\n",
    "\n",
    "from sklearn.model_selection import StratifiedKFold,cross_val_score,train_test_split\n",
    "from sklearn.model_selection import GridSearchCV,RandomizedSearchCV\n",
    "\n",
    "from sklearn.linear_model import LogisticRegression\n",
    "from sklearn.svm import SVC\n",
    "from sklearn.neighbors import KNeighborsClassifier\n",
    "\n",
    "from sklearn.naive_bayes import GaussianNB\n",
    "\n",
    "from sklearn.impute import KNNImputer\n",
    "\n",
    "from sklearn.tree import DecisionTreeClassifier\n",
    "from sklearn.ensemble import RandomForestClassifier,BaggingClassifier,VotingClassifier\n",
    "\n",
    "from sklearn.ensemble import GradientBoostingClassifier,AdaBoostClassifier\n",
    "\n",
    "from sklearn.feature_selection import RFE,SelectKBest,SequentialFeatureSelector,chi2\n",
    "\n",
    "from imblearn.over_sampling import SMOTE,SMOTEN,SMOTENC\n",
    "\n",
    "from xgboost import XGBClassifier\n",
    "\n",
    "import re"
   ]
  },
  {
   "cell_type": "code",
   "execution_count": 377,
   "id": "820c8185",
   "metadata": {},
   "outputs": [],
   "source": [
    "link_imb = 'F:\\GREAT LAKES\\PROJECT\\CAPSTONE\\Iterative_Imputatiof_diagnosis\\Fully_finally_imputed_data.csv'"
   ]
  },
  {
   "cell_type": "code",
   "execution_count": 378,
   "id": "bf924801",
   "metadata": {},
   "outputs": [],
   "source": [
    "# link_over = 'F:\\GREAT LAKES\\PROJECT\\CAPSTONE\\MODELING\\Logistic regression\\Final_data_for_modeling\\Over_sampled_data(SMOTENC)_for_logistic_regression\\SMOTENC_logistic_regression_reduced_size.csv'"
   ]
  },
  {
   "cell_type": "code",
   "execution_count": 379,
   "id": "055b6513",
   "metadata": {},
   "outputs": [],
   "source": [
    "df_imb = pd.read_csv(link_imb)\n",
    "df_imb = df_imb.iloc[:,1:]"
   ]
  },
  {
   "cell_type": "code",
   "execution_count": 380,
   "id": "7f916467",
   "metadata": {},
   "outputs": [],
   "source": [
    "# df_over = pd.read_csv(link_over)\n",
    "# df_over = df_over.iloc[:,1:]\n",
    "\n",
    "# predictors_balanced = df_over.drop('readmitted',1)"
   ]
  },
  {
   "cell_type": "code",
   "execution_count": 381,
   "id": "0f329be6",
   "metadata": {},
   "outputs": [
    {
     "name": "stdout",
     "output_type": "stream",
     "text": [
      "{'metformin-rosiglitazone', 'acetohexamide', 'glimepiride-pioglitazone', 'metformin-pioglitazone', 'troglitazone'}\n"
     ]
    }
   ],
   "source": [
    "patient_info = ['race', 'gender', 'age', 'admission_type_id',\n",
    "                'discharge_disposition_id','admission_source_id',\n",
    "                'medical_specialty','diagnosis_1','diagnosis_2', 'diagnosis_3',\n",
    "                'max_glu_serum', 'A1Cresult','change', 'diabetesMed']\n",
    "\n",
    "# Features which contains no information\n",
    "drop_list_patient_info = ['encounter_id','patient_nbr','weight','payer_code']\n",
    "\n",
    "# Numeric features\n",
    "patient_info_numeric = ['time_in_hospital','num_lab_procedures',\n",
    "                        'num_procedures','num_medications',\n",
    "                        'number_outpatient','number_emergency',\n",
    "                        'number_inpatient','number_diagnoses']\n",
    "\n",
    "# Taking initial decision to keep 16 features\n",
    "feature_medicine = ['metformin','repaglinide', 'nateglinide', \n",
    "                     'chlorpropamide', 'glimepiride', 'glipizide', \n",
    "                     'glyburide', 'tolbutamide','pioglitazone',\n",
    "                     'rosiglitazone', 'acarbose', 'miglitol','tolazamide',\n",
    "                     'insulin','glyburide-metformin', 'glipizide-metformin']\n",
    "\n",
    "# Initial decision to remove 7 features\n",
    "drop_list_medicine = ['acetohexamide','troglitazone','examide','citoglipton',\n",
    "                      'glimepiride-pioglitazone','metformin-rosiglitazone',\n",
    "                      'metformin-pioglitazone']\n",
    "\n",
    "\n",
    "# The medicines which contains 'Steady' & 'No' for encoding purpose\n",
    "two_category_medicine = ['acetohexamide', 'tolbutamide', 'troglitazone',\n",
    "                         'glipizide-metformin', 'glimepiride-pioglitazone',\n",
    "                         'metformin-rosiglitazone', 'metformin-pioglitazone']\n",
    "# ------------------------------------------------------------------\n",
    "# The medicines which contains 'Steady','Up','Down' & 'No' for encoding purpose (14)\n",
    "four_category_medicine = ['metformin','repaglinide', 'nateglinide', 'chlorpropamide',\n",
    "                          'glimepiride','glipizide','glyburide','pioglitazone','rosiglitazone',\n",
    "                          'acarbose','miglitol','tolazamide','insulin','glyburide-metformin'] \n",
    "# ------------------------------------------------------------------\n",
    "# considering these two medicines with only 'steady' & 'No' categories for encoding purpose\n",
    "two_category_medicine_to_be_kept = ['tolbutamide','glipizide-metformin']\n",
    "# ------------------------------------------------------------------                                                \n",
    "# Out of initial removal decision, these 2 are compulsorily removed.\n",
    "single_category_medicine = ['examide', 'citoglipton']\n",
    "                                             \n",
    "\n",
    "print(set(drop_list_medicine) & set(two_category_medicine))\n",
    "\n",
    "dependent = 'readmitted'"
   ]
  },
  {
   "cell_type": "code",
   "execution_count": 382,
   "id": "33607ab0",
   "metadata": {},
   "outputs": [],
   "source": [
    "df_numeric = df_imb[patient_info_numeric].copy()\n",
    "Target_imbalanced = df_imb[['readmitted']]"
   ]
  },
  {
   "cell_type": "code",
   "execution_count": 383,
   "id": "ea4f722c",
   "metadata": {},
   "outputs": [],
   "source": [
    "hospital_data = (df_imb['number_outpatient'] + df_imb['number_emergency'] + df_imb['number_inpatient'])\n",
    "health_index = hospital_data.copy()\n",
    "\n",
    "\n",
    "severity = (df_imb['time_in_hospital'] + df_imb['num_lab_procedures'] + df_imb['num_procedures'] + df_imb['num_medications'] + df_imb['number_diagnoses'])\n",
    "severity_of_disease = severity.copy()"
   ]
  },
  {
   "cell_type": "code",
   "execution_count": 384,
   "id": "5c987f37",
   "metadata": {},
   "outputs": [
    {
     "data": {
      "text/plain": [
       "Index(['time_in_hospital', 'num_lab_procedures', 'num_procedures',\n",
       "       'num_medications', 'number_outpatient', 'number_emergency',\n",
       "       'number_inpatient', 'number_diagnoses'],\n",
       "      dtype='object')"
      ]
     },
     "execution_count": 384,
     "metadata": {},
     "output_type": "execute_result"
    }
   ],
   "source": [
    "df_numeric.columns"
   ]
  },
  {
   "cell_type": "code",
   "execution_count": 385,
   "id": "bab5b9db",
   "metadata": {},
   "outputs": [],
   "source": [
    "df_numeric['Health_index'] = health_index\n",
    "df_numeric['severity_of_disease'] = severity_of_disease\n",
    "\n",
    "std = StandardScaler()\n",
    "df_numeric_std = pd.DataFrame(std.fit_transform(df_numeric),columns=std.feature_names_in_)"
   ]
  },
  {
   "cell_type": "code",
   "execution_count": 386,
   "id": "bdd48a15",
   "metadata": {},
   "outputs": [],
   "source": [
    "# Importing standard scalar"
   ]
  },
  {
   "cell_type": "code",
   "execution_count": 387,
   "id": "ef3d472e",
   "metadata": {},
   "outputs": [],
   "source": [
    "link_scale = 'F:\\GREAT LAKES\\PROJECT\\CAPSTONE\\MODELING\\Logistic regression\\Final_data_for_modeling\\Logistic regression_numeric_model\\scalar.pickle'\n",
    "import pickle\n",
    "with open(link_scale,'wb') as sc:\n",
    "    pickle.dump(std,sc)"
   ]
  },
  {
   "cell_type": "code",
   "execution_count": 397,
   "id": "9676b83e",
   "metadata": {},
   "outputs": [],
   "source": [
    "from imblearn.over_sampling import KMeansSMOTE"
   ]
  },
  {
   "cell_type": "code",
   "execution_count": 364,
   "id": "957ca7f5",
   "metadata": {},
   "outputs": [],
   "source": [
    "over_sample = KMeansSMOTE(cluster_balance_threshold=0.134,random_state=55,k_neighbors=12,\n",
    "                          sampling_strategy=0.99,)\n",
    "predictor_balanced,Target_balanced = over_sample.fit_resample(df_numeric_std,Target_imbalanced)\n",
    "Xb_train, Xb_test, yb_train, yb_test = train_test_split(predictor_balanced,Target_balanced,\n",
    "                                                        test_size=0.25,random_state=42)"
   ]
  },
  {
   "cell_type": "code",
   "execution_count": 365,
   "id": "0fb5b002",
   "metadata": {},
   "outputs": [],
   "source": [
    "# link_kmeans_oversampled = 'F:\\GREAT LAKES\\PROJECT\\CAPSTONE\\MODELING\\Logistic regression\\Final_data_for_modeling\\Logistic regression_numeric_model\\Kmeans_numeric_oversampled.csv'\n",
    "# df_numeric_oversample = pd.concat([predictor_balanced,Target_balanced],axis=1)\n",
    "# df_numeric_oversample.to_csv(link_kmeans_oversampled)"
   ]
  },
  {
   "cell_type": "markdown",
   "id": "43d8d048",
   "metadata": {},
   "source": [
    "## `Logistic Regression`"
   ]
  },
  {
   "cell_type": "code",
   "execution_count": 399,
   "id": "2990abbd",
   "metadata": {},
   "outputs": [
    {
     "data": {
      "text/html": [
       "<style>#sk-container-id-22 {color: black;background-color: white;}#sk-container-id-22 pre{padding: 0;}#sk-container-id-22 div.sk-toggleable {background-color: white;}#sk-container-id-22 label.sk-toggleable__label {cursor: pointer;display: block;width: 100%;margin-bottom: 0;padding: 0.3em;box-sizing: border-box;text-align: center;}#sk-container-id-22 label.sk-toggleable__label-arrow:before {content: \"▸\";float: left;margin-right: 0.25em;color: #696969;}#sk-container-id-22 label.sk-toggleable__label-arrow:hover:before {color: black;}#sk-container-id-22 div.sk-estimator:hover label.sk-toggleable__label-arrow:before {color: black;}#sk-container-id-22 div.sk-toggleable__content {max-height: 0;max-width: 0;overflow: hidden;text-align: left;background-color: #f0f8ff;}#sk-container-id-22 div.sk-toggleable__content pre {margin: 0.2em;color: black;border-radius: 0.25em;background-color: #f0f8ff;}#sk-container-id-22 input.sk-toggleable__control:checked~div.sk-toggleable__content {max-height: 200px;max-width: 100%;overflow: auto;}#sk-container-id-22 input.sk-toggleable__control:checked~label.sk-toggleable__label-arrow:before {content: \"▾\";}#sk-container-id-22 div.sk-estimator input.sk-toggleable__control:checked~label.sk-toggleable__label {background-color: #d4ebff;}#sk-container-id-22 div.sk-label input.sk-toggleable__control:checked~label.sk-toggleable__label {background-color: #d4ebff;}#sk-container-id-22 input.sk-hidden--visually {border: 0;clip: rect(1px 1px 1px 1px);clip: rect(1px, 1px, 1px, 1px);height: 1px;margin: -1px;overflow: hidden;padding: 0;position: absolute;width: 1px;}#sk-container-id-22 div.sk-estimator {font-family: monospace;background-color: #f0f8ff;border: 1px dotted black;border-radius: 0.25em;box-sizing: border-box;margin-bottom: 0.5em;}#sk-container-id-22 div.sk-estimator:hover {background-color: #d4ebff;}#sk-container-id-22 div.sk-parallel-item::after {content: \"\";width: 100%;border-bottom: 1px solid gray;flex-grow: 1;}#sk-container-id-22 div.sk-label:hover label.sk-toggleable__label {background-color: #d4ebff;}#sk-container-id-22 div.sk-serial::before {content: \"\";position: absolute;border-left: 1px solid gray;box-sizing: border-box;top: 0;bottom: 0;left: 50%;z-index: 0;}#sk-container-id-22 div.sk-serial {display: flex;flex-direction: column;align-items: center;background-color: white;padding-right: 0.2em;padding-left: 0.2em;position: relative;}#sk-container-id-22 div.sk-item {position: relative;z-index: 1;}#sk-container-id-22 div.sk-parallel {display: flex;align-items: stretch;justify-content: center;background-color: white;position: relative;}#sk-container-id-22 div.sk-item::before, #sk-container-id-22 div.sk-parallel-item::before {content: \"\";position: absolute;border-left: 1px solid gray;box-sizing: border-box;top: 0;bottom: 0;left: 50%;z-index: -1;}#sk-container-id-22 div.sk-parallel-item {display: flex;flex-direction: column;z-index: 1;position: relative;background-color: white;}#sk-container-id-22 div.sk-parallel-item:first-child::after {align-self: flex-end;width: 50%;}#sk-container-id-22 div.sk-parallel-item:last-child::after {align-self: flex-start;width: 50%;}#sk-container-id-22 div.sk-parallel-item:only-child::after {width: 0;}#sk-container-id-22 div.sk-dashed-wrapped {border: 1px dashed gray;margin: 0 0.4em 0.5em 0.4em;box-sizing: border-box;padding-bottom: 0.4em;background-color: white;}#sk-container-id-22 div.sk-label label {font-family: monospace;font-weight: bold;display: inline-block;line-height: 1.2em;}#sk-container-id-22 div.sk-label-container {text-align: center;}#sk-container-id-22 div.sk-container {/* jupyter's `normalize.less` sets `[hidden] { display: none; }` but bootstrap.min.css set `[hidden] { display: none !important; }` so we also need the `!important` here to be able to override the default hidden behavior on the sphinx rendered scikit-learn.org. See: https://github.com/scikit-learn/scikit-learn/issues/21755 */display: inline-block !important;position: relative;}#sk-container-id-22 div.sk-text-repr-fallback {display: none;}</style><div id=\"sk-container-id-22\" class=\"sk-top-container\"><div class=\"sk-text-repr-fallback\"><pre>LogisticRegression(random_state=93)</pre><b>In a Jupyter environment, please rerun this cell to show the HTML representation or trust the notebook. <br />On GitHub, the HTML representation is unable to render, please try loading this page with nbviewer.org.</b></div><div class=\"sk-container\" hidden><div class=\"sk-item\"><div class=\"sk-estimator sk-toggleable\"><input class=\"sk-toggleable__control sk-hidden--visually\" id=\"sk-estimator-id-50\" type=\"checkbox\" checked><label for=\"sk-estimator-id-50\" class=\"sk-toggleable__label sk-toggleable__label-arrow\">LogisticRegression</label><div class=\"sk-toggleable__content\"><pre>LogisticRegression(random_state=93)</pre></div></div></div></div></div>"
      ],
      "text/plain": [
       "LogisticRegression(random_state=93)"
      ]
     },
     "execution_count": 399,
     "metadata": {},
     "output_type": "execute_result"
    }
   ],
   "source": [
    "logistic_numeric = LogisticRegression(random_state=93)\n",
    "logistic_numeric.fit(Xb_train,yb_train)"
   ]
  },
  {
   "cell_type": "code",
   "execution_count": 400,
   "id": "8e2e5d83",
   "metadata": {},
   "outputs": [],
   "source": [
    "link_logistic = r'F:\\GREAT LAKES\\PROJECT\\CAPSTONE\\MODELING\\Logistic regression\\Final_data_for_modeling\\Logistic regression_numeric_model\\Numeric_model.pickle'\n",
    "import pickle\n",
    "with open(link_logistic,'wb') as log:\n",
    "    pickle.dump(logistic_numeric,log)"
   ]
  },
  {
   "cell_type": "code",
   "execution_count": 428,
   "id": "47eb7921",
   "metadata": {},
   "outputs": [],
   "source": [
    "#logistic_numeric.predict(std.transform(df_numeric.iloc[5].values.reshape(1,-1)))[0]"
   ]
  },
  {
   "cell_type": "code",
   "execution_count": 402,
   "id": "220c9336",
   "metadata": {},
   "outputs": [
    {
     "name": "stdout",
     "output_type": "stream",
     "text": [
      "              precision    recall  f1-score   support\n",
      "\n",
      "          No       0.90      0.91      0.90     67431\n",
      "         Yes       0.90      0.89      0.90     66403\n",
      "\n",
      "    accuracy                           0.90    133834\n",
      "   macro avg       0.90      0.90      0.90    133834\n",
      "weighted avg       0.90      0.90      0.90    133834\n",
      "\n"
     ]
    }
   ],
   "source": [
    "print(classification_report(y_train,Log_reg.predict(X_train)))"
   ]
  },
  {
   "cell_type": "code",
   "execution_count": 429,
   "id": "c147e1e9",
   "metadata": {},
   "outputs": [
    {
     "name": "stdout",
     "output_type": "stream",
     "text": [
      "              precision    recall  f1-score   support\n",
      "\n",
      "          No       0.89      0.91      0.90     22240\n",
      "         Yes       0.90      0.89      0.90     22372\n",
      "\n",
      "    accuracy                           0.90     44612\n",
      "   macro avg       0.90      0.90      0.90     44612\n",
      "weighted avg       0.90      0.90      0.90     44612\n",
      "\n"
     ]
    }
   ],
   "source": [
    "print(classification_report(y_test,Log_reg.predict(X_test)))"
   ]
  },
  {
   "cell_type": "markdown",
   "id": "bb070d13",
   "metadata": {},
   "source": [
    "## `Support vector machine`"
   ]
  },
  {
   "cell_type": "code",
   "execution_count": 451,
   "id": "9a39a931",
   "metadata": {},
   "outputs": [
    {
     "data": {
      "text/html": [
       "<style>#sk-container-id-37 {color: black;background-color: white;}#sk-container-id-37 pre{padding: 0;}#sk-container-id-37 div.sk-toggleable {background-color: white;}#sk-container-id-37 label.sk-toggleable__label {cursor: pointer;display: block;width: 100%;margin-bottom: 0;padding: 0.3em;box-sizing: border-box;text-align: center;}#sk-container-id-37 label.sk-toggleable__label-arrow:before {content: \"▸\";float: left;margin-right: 0.25em;color: #696969;}#sk-container-id-37 label.sk-toggleable__label-arrow:hover:before {color: black;}#sk-container-id-37 div.sk-estimator:hover label.sk-toggleable__label-arrow:before {color: black;}#sk-container-id-37 div.sk-toggleable__content {max-height: 0;max-width: 0;overflow: hidden;text-align: left;background-color: #f0f8ff;}#sk-container-id-37 div.sk-toggleable__content pre {margin: 0.2em;color: black;border-radius: 0.25em;background-color: #f0f8ff;}#sk-container-id-37 input.sk-toggleable__control:checked~div.sk-toggleable__content {max-height: 200px;max-width: 100%;overflow: auto;}#sk-container-id-37 input.sk-toggleable__control:checked~label.sk-toggleable__label-arrow:before {content: \"▾\";}#sk-container-id-37 div.sk-estimator input.sk-toggleable__control:checked~label.sk-toggleable__label {background-color: #d4ebff;}#sk-container-id-37 div.sk-label input.sk-toggleable__control:checked~label.sk-toggleable__label {background-color: #d4ebff;}#sk-container-id-37 input.sk-hidden--visually {border: 0;clip: rect(1px 1px 1px 1px);clip: rect(1px, 1px, 1px, 1px);height: 1px;margin: -1px;overflow: hidden;padding: 0;position: absolute;width: 1px;}#sk-container-id-37 div.sk-estimator {font-family: monospace;background-color: #f0f8ff;border: 1px dotted black;border-radius: 0.25em;box-sizing: border-box;margin-bottom: 0.5em;}#sk-container-id-37 div.sk-estimator:hover {background-color: #d4ebff;}#sk-container-id-37 div.sk-parallel-item::after {content: \"\";width: 100%;border-bottom: 1px solid gray;flex-grow: 1;}#sk-container-id-37 div.sk-label:hover label.sk-toggleable__label {background-color: #d4ebff;}#sk-container-id-37 div.sk-serial::before {content: \"\";position: absolute;border-left: 1px solid gray;box-sizing: border-box;top: 0;bottom: 0;left: 50%;z-index: 0;}#sk-container-id-37 div.sk-serial {display: flex;flex-direction: column;align-items: center;background-color: white;padding-right: 0.2em;padding-left: 0.2em;position: relative;}#sk-container-id-37 div.sk-item {position: relative;z-index: 1;}#sk-container-id-37 div.sk-parallel {display: flex;align-items: stretch;justify-content: center;background-color: white;position: relative;}#sk-container-id-37 div.sk-item::before, #sk-container-id-37 div.sk-parallel-item::before {content: \"\";position: absolute;border-left: 1px solid gray;box-sizing: border-box;top: 0;bottom: 0;left: 50%;z-index: -1;}#sk-container-id-37 div.sk-parallel-item {display: flex;flex-direction: column;z-index: 1;position: relative;background-color: white;}#sk-container-id-37 div.sk-parallel-item:first-child::after {align-self: flex-end;width: 50%;}#sk-container-id-37 div.sk-parallel-item:last-child::after {align-self: flex-start;width: 50%;}#sk-container-id-37 div.sk-parallel-item:only-child::after {width: 0;}#sk-container-id-37 div.sk-dashed-wrapped {border: 1px dashed gray;margin: 0 0.4em 0.5em 0.4em;box-sizing: border-box;padding-bottom: 0.4em;background-color: white;}#sk-container-id-37 div.sk-label label {font-family: monospace;font-weight: bold;display: inline-block;line-height: 1.2em;}#sk-container-id-37 div.sk-label-container {text-align: center;}#sk-container-id-37 div.sk-container {/* jupyter's `normalize.less` sets `[hidden] { display: none; }` but bootstrap.min.css set `[hidden] { display: none !important; }` so we also need the `!important` here to be able to override the default hidden behavior on the sphinx rendered scikit-learn.org. See: https://github.com/scikit-learn/scikit-learn/issues/21755 */display: inline-block !important;position: relative;}#sk-container-id-37 div.sk-text-repr-fallback {display: none;}</style><div id=\"sk-container-id-37\" class=\"sk-top-container\"><div class=\"sk-text-repr-fallback\"><pre>SVC(random_state=93)</pre><b>In a Jupyter environment, please rerun this cell to show the HTML representation or trust the notebook. <br />On GitHub, the HTML representation is unable to render, please try loading this page with nbviewer.org.</b></div><div class=\"sk-container\" hidden><div class=\"sk-item\"><div class=\"sk-estimator sk-toggleable\"><input class=\"sk-toggleable__control sk-hidden--visually\" id=\"sk-estimator-id-65\" type=\"checkbox\" checked><label for=\"sk-estimator-id-65\" class=\"sk-toggleable__label sk-toggleable__label-arrow\">SVC</label><div class=\"sk-toggleable__content\"><pre>SVC(random_state=93)</pre></div></div></div></div></div>"
      ],
      "text/plain": [
       "SVC(random_state=93)"
      ]
     },
     "execution_count": 451,
     "metadata": {},
     "output_type": "execute_result"
    }
   ],
   "source": [
    "support_vector = SVC(random_state=93)\n",
    "support_vector.fit(Xb_train,yb_train)"
   ]
  },
  {
   "cell_type": "code",
   "execution_count": 454,
   "id": "4635788a",
   "metadata": {},
   "outputs": [],
   "source": [
    "svc_link = 'F:\\GREAT LAKES\\PROJECT\\CAPSTONE\\MODELING\\Support_vector_machine\\SVC.pickle'\n",
    "import pickle\n",
    "with open(svc_link,'wb') as svc:\n",
    "    pickle.dump(support_vector,svc)"
   ]
  },
  {
   "cell_type": "code",
   "execution_count": 455,
   "id": "2884286f",
   "metadata": {},
   "outputs": [
    {
     "data": {
      "text/plain": [
       "array(['No'], dtype=object)"
      ]
     },
     "execution_count": 455,
     "metadata": {},
     "output_type": "execute_result"
    }
   ],
   "source": [
    "support_vector.predict(std.transform(df_numeric.iloc[5].values.reshape(1,-1)))"
   ]
  },
  {
   "cell_type": "code",
   "execution_count": 462,
   "id": "ae5fbeff",
   "metadata": {},
   "outputs": [
    {
     "name": "stdout",
     "output_type": "stream",
     "text": [
      "              precision    recall  f1-score   support\n",
      "\n",
      "          No       0.91      0.91      0.91      2562\n",
      "         Yes       0.91      0.90      0.90      2438\n",
      "\n",
      "    accuracy                           0.91      5000\n",
      "   macro avg       0.91      0.91      0.91      5000\n",
      "weighted avg       0.91      0.91      0.91      5000\n",
      "\n"
     ]
    }
   ],
   "source": [
    "print(classification_report(yb_test.head(5000),support_vector.predict(Xb_test.head(5000))))"
   ]
  },
  {
   "cell_type": "markdown",
   "id": "81156a74",
   "metadata": {},
   "source": [
    "## `K-Nearest-Neighbour`"
   ]
  },
  {
   "cell_type": "code",
   "execution_count": 442,
   "id": "00e5db77",
   "metadata": {},
   "outputs": [
    {
     "data": {
      "text/html": [
       "<style>#sk-container-id-35 {color: black;background-color: white;}#sk-container-id-35 pre{padding: 0;}#sk-container-id-35 div.sk-toggleable {background-color: white;}#sk-container-id-35 label.sk-toggleable__label {cursor: pointer;display: block;width: 100%;margin-bottom: 0;padding: 0.3em;box-sizing: border-box;text-align: center;}#sk-container-id-35 label.sk-toggleable__label-arrow:before {content: \"▸\";float: left;margin-right: 0.25em;color: #696969;}#sk-container-id-35 label.sk-toggleable__label-arrow:hover:before {color: black;}#sk-container-id-35 div.sk-estimator:hover label.sk-toggleable__label-arrow:before {color: black;}#sk-container-id-35 div.sk-toggleable__content {max-height: 0;max-width: 0;overflow: hidden;text-align: left;background-color: #f0f8ff;}#sk-container-id-35 div.sk-toggleable__content pre {margin: 0.2em;color: black;border-radius: 0.25em;background-color: #f0f8ff;}#sk-container-id-35 input.sk-toggleable__control:checked~div.sk-toggleable__content {max-height: 200px;max-width: 100%;overflow: auto;}#sk-container-id-35 input.sk-toggleable__control:checked~label.sk-toggleable__label-arrow:before {content: \"▾\";}#sk-container-id-35 div.sk-estimator input.sk-toggleable__control:checked~label.sk-toggleable__label {background-color: #d4ebff;}#sk-container-id-35 div.sk-label input.sk-toggleable__control:checked~label.sk-toggleable__label {background-color: #d4ebff;}#sk-container-id-35 input.sk-hidden--visually {border: 0;clip: rect(1px 1px 1px 1px);clip: rect(1px, 1px, 1px, 1px);height: 1px;margin: -1px;overflow: hidden;padding: 0;position: absolute;width: 1px;}#sk-container-id-35 div.sk-estimator {font-family: monospace;background-color: #f0f8ff;border: 1px dotted black;border-radius: 0.25em;box-sizing: border-box;margin-bottom: 0.5em;}#sk-container-id-35 div.sk-estimator:hover {background-color: #d4ebff;}#sk-container-id-35 div.sk-parallel-item::after {content: \"\";width: 100%;border-bottom: 1px solid gray;flex-grow: 1;}#sk-container-id-35 div.sk-label:hover label.sk-toggleable__label {background-color: #d4ebff;}#sk-container-id-35 div.sk-serial::before {content: \"\";position: absolute;border-left: 1px solid gray;box-sizing: border-box;top: 0;bottom: 0;left: 50%;z-index: 0;}#sk-container-id-35 div.sk-serial {display: flex;flex-direction: column;align-items: center;background-color: white;padding-right: 0.2em;padding-left: 0.2em;position: relative;}#sk-container-id-35 div.sk-item {position: relative;z-index: 1;}#sk-container-id-35 div.sk-parallel {display: flex;align-items: stretch;justify-content: center;background-color: white;position: relative;}#sk-container-id-35 div.sk-item::before, #sk-container-id-35 div.sk-parallel-item::before {content: \"\";position: absolute;border-left: 1px solid gray;box-sizing: border-box;top: 0;bottom: 0;left: 50%;z-index: -1;}#sk-container-id-35 div.sk-parallel-item {display: flex;flex-direction: column;z-index: 1;position: relative;background-color: white;}#sk-container-id-35 div.sk-parallel-item:first-child::after {align-self: flex-end;width: 50%;}#sk-container-id-35 div.sk-parallel-item:last-child::after {align-self: flex-start;width: 50%;}#sk-container-id-35 div.sk-parallel-item:only-child::after {width: 0;}#sk-container-id-35 div.sk-dashed-wrapped {border: 1px dashed gray;margin: 0 0.4em 0.5em 0.4em;box-sizing: border-box;padding-bottom: 0.4em;background-color: white;}#sk-container-id-35 div.sk-label label {font-family: monospace;font-weight: bold;display: inline-block;line-height: 1.2em;}#sk-container-id-35 div.sk-label-container {text-align: center;}#sk-container-id-35 div.sk-container {/* jupyter's `normalize.less` sets `[hidden] { display: none; }` but bootstrap.min.css set `[hidden] { display: none !important; }` so we also need the `!important` here to be able to override the default hidden behavior on the sphinx rendered scikit-learn.org. See: https://github.com/scikit-learn/scikit-learn/issues/21755 */display: inline-block !important;position: relative;}#sk-container-id-35 div.sk-text-repr-fallback {display: none;}</style><div id=\"sk-container-id-35\" class=\"sk-top-container\"><div class=\"sk-text-repr-fallback\"><pre>KNeighborsClassifier(n_jobs=-1, n_neighbors=9)</pre><b>In a Jupyter environment, please rerun this cell to show the HTML representation or trust the notebook. <br />On GitHub, the HTML representation is unable to render, please try loading this page with nbviewer.org.</b></div><div class=\"sk-container\" hidden><div class=\"sk-item\"><div class=\"sk-estimator sk-toggleable\"><input class=\"sk-toggleable__control sk-hidden--visually\" id=\"sk-estimator-id-63\" type=\"checkbox\" checked><label for=\"sk-estimator-id-63\" class=\"sk-toggleable__label sk-toggleable__label-arrow\">KNeighborsClassifier</label><div class=\"sk-toggleable__content\"><pre>KNeighborsClassifier(n_jobs=-1, n_neighbors=9)</pre></div></div></div></div></div>"
      ],
      "text/plain": [
       "KNeighborsClassifier(n_jobs=-1, n_neighbors=9)"
      ]
     },
     "execution_count": 442,
     "metadata": {},
     "output_type": "execute_result"
    }
   ],
   "source": [
    "knn = KNeighborsClassifier(n_neighbors=9,n_jobs=-1,p=2)\n",
    "knn.fit(Xb_train,yb_train)"
   ]
  },
  {
   "cell_type": "code",
   "execution_count": 443,
   "id": "37f31a7d",
   "metadata": {},
   "outputs": [
    {
     "name": "stdout",
     "output_type": "stream",
     "text": [
      "              precision    recall  f1-score   support\n",
      "\n",
      "          No       0.90      0.94      0.92     67431\n",
      "         Yes       0.93      0.90      0.92     66403\n",
      "\n",
      "    accuracy                           0.92    133834\n",
      "   macro avg       0.92      0.92      0.92    133834\n",
      "weighted avg       0.92      0.92      0.92    133834\n",
      "\n"
     ]
    }
   ],
   "source": [
    "print(classification_report(y_train,knn.predict(X_train)))"
   ]
  },
  {
   "cell_type": "code",
   "execution_count": 444,
   "id": "83bf3a01",
   "metadata": {},
   "outputs": [
    {
     "name": "stdout",
     "output_type": "stream",
     "text": [
      "              precision    recall  f1-score   support\n",
      "\n",
      "          No       0.90      0.93      0.91     22240\n",
      "         Yes       0.93      0.90      0.91     22372\n",
      "\n",
      "    accuracy                           0.91     44612\n",
      "   macro avg       0.91      0.91      0.91     44612\n",
      "weighted avg       0.91      0.91      0.91     44612\n",
      "\n"
     ]
    }
   ],
   "source": [
    "print(classification_report(y_test,knn.predict(X_test)))"
   ]
  },
  {
   "cell_type": "markdown",
   "id": "83074338",
   "metadata": {},
   "source": [
    "## `Naive Bayes`"
   ]
  },
  {
   "cell_type": "code",
   "execution_count": 447,
   "id": "b9721f21",
   "metadata": {},
   "outputs": [
    {
     "data": {
      "text/html": [
       "<style>#sk-container-id-36 {color: black;background-color: white;}#sk-container-id-36 pre{padding: 0;}#sk-container-id-36 div.sk-toggleable {background-color: white;}#sk-container-id-36 label.sk-toggleable__label {cursor: pointer;display: block;width: 100%;margin-bottom: 0;padding: 0.3em;box-sizing: border-box;text-align: center;}#sk-container-id-36 label.sk-toggleable__label-arrow:before {content: \"▸\";float: left;margin-right: 0.25em;color: #696969;}#sk-container-id-36 label.sk-toggleable__label-arrow:hover:before {color: black;}#sk-container-id-36 div.sk-estimator:hover label.sk-toggleable__label-arrow:before {color: black;}#sk-container-id-36 div.sk-toggleable__content {max-height: 0;max-width: 0;overflow: hidden;text-align: left;background-color: #f0f8ff;}#sk-container-id-36 div.sk-toggleable__content pre {margin: 0.2em;color: black;border-radius: 0.25em;background-color: #f0f8ff;}#sk-container-id-36 input.sk-toggleable__control:checked~div.sk-toggleable__content {max-height: 200px;max-width: 100%;overflow: auto;}#sk-container-id-36 input.sk-toggleable__control:checked~label.sk-toggleable__label-arrow:before {content: \"▾\";}#sk-container-id-36 div.sk-estimator input.sk-toggleable__control:checked~label.sk-toggleable__label {background-color: #d4ebff;}#sk-container-id-36 div.sk-label input.sk-toggleable__control:checked~label.sk-toggleable__label {background-color: #d4ebff;}#sk-container-id-36 input.sk-hidden--visually {border: 0;clip: rect(1px 1px 1px 1px);clip: rect(1px, 1px, 1px, 1px);height: 1px;margin: -1px;overflow: hidden;padding: 0;position: absolute;width: 1px;}#sk-container-id-36 div.sk-estimator {font-family: monospace;background-color: #f0f8ff;border: 1px dotted black;border-radius: 0.25em;box-sizing: border-box;margin-bottom: 0.5em;}#sk-container-id-36 div.sk-estimator:hover {background-color: #d4ebff;}#sk-container-id-36 div.sk-parallel-item::after {content: \"\";width: 100%;border-bottom: 1px solid gray;flex-grow: 1;}#sk-container-id-36 div.sk-label:hover label.sk-toggleable__label {background-color: #d4ebff;}#sk-container-id-36 div.sk-serial::before {content: \"\";position: absolute;border-left: 1px solid gray;box-sizing: border-box;top: 0;bottom: 0;left: 50%;z-index: 0;}#sk-container-id-36 div.sk-serial {display: flex;flex-direction: column;align-items: center;background-color: white;padding-right: 0.2em;padding-left: 0.2em;position: relative;}#sk-container-id-36 div.sk-item {position: relative;z-index: 1;}#sk-container-id-36 div.sk-parallel {display: flex;align-items: stretch;justify-content: center;background-color: white;position: relative;}#sk-container-id-36 div.sk-item::before, #sk-container-id-36 div.sk-parallel-item::before {content: \"\";position: absolute;border-left: 1px solid gray;box-sizing: border-box;top: 0;bottom: 0;left: 50%;z-index: -1;}#sk-container-id-36 div.sk-parallel-item {display: flex;flex-direction: column;z-index: 1;position: relative;background-color: white;}#sk-container-id-36 div.sk-parallel-item:first-child::after {align-self: flex-end;width: 50%;}#sk-container-id-36 div.sk-parallel-item:last-child::after {align-self: flex-start;width: 50%;}#sk-container-id-36 div.sk-parallel-item:only-child::after {width: 0;}#sk-container-id-36 div.sk-dashed-wrapped {border: 1px dashed gray;margin: 0 0.4em 0.5em 0.4em;box-sizing: border-box;padding-bottom: 0.4em;background-color: white;}#sk-container-id-36 div.sk-label label {font-family: monospace;font-weight: bold;display: inline-block;line-height: 1.2em;}#sk-container-id-36 div.sk-label-container {text-align: center;}#sk-container-id-36 div.sk-container {/* jupyter's `normalize.less` sets `[hidden] { display: none; }` but bootstrap.min.css set `[hidden] { display: none !important; }` so we also need the `!important` here to be able to override the default hidden behavior on the sphinx rendered scikit-learn.org. See: https://github.com/scikit-learn/scikit-learn/issues/21755 */display: inline-block !important;position: relative;}#sk-container-id-36 div.sk-text-repr-fallback {display: none;}</style><div id=\"sk-container-id-36\" class=\"sk-top-container\"><div class=\"sk-text-repr-fallback\"><pre>GaussianNB()</pre><b>In a Jupyter environment, please rerun this cell to show the HTML representation or trust the notebook. <br />On GitHub, the HTML representation is unable to render, please try loading this page with nbviewer.org.</b></div><div class=\"sk-container\" hidden><div class=\"sk-item\"><div class=\"sk-estimator sk-toggleable\"><input class=\"sk-toggleable__control sk-hidden--visually\" id=\"sk-estimator-id-64\" type=\"checkbox\" checked><label for=\"sk-estimator-id-64\" class=\"sk-toggleable__label sk-toggleable__label-arrow\">GaussianNB</label><div class=\"sk-toggleable__content\"><pre>GaussianNB()</pre></div></div></div></div></div>"
      ],
      "text/plain": [
       "GaussianNB()"
      ]
     },
     "execution_count": 447,
     "metadata": {},
     "output_type": "execute_result"
    }
   ],
   "source": [
    "Naive = GaussianNB()\n",
    "Naive.fit(Xb_train,yb_train)"
   ]
  },
  {
   "cell_type": "code",
   "execution_count": 449,
   "id": "a918ccc7",
   "metadata": {},
   "outputs": [
    {
     "name": "stdout",
     "output_type": "stream",
     "text": [
      "              precision    recall  f1-score   support\n",
      "\n",
      "          No       0.79      0.94      0.86     67431\n",
      "         Yes       0.92      0.75      0.82     66403\n",
      "\n",
      "    accuracy                           0.84    133834\n",
      "   macro avg       0.86      0.84      0.84    133834\n",
      "weighted avg       0.85      0.84      0.84    133834\n",
      "\n"
     ]
    }
   ],
   "source": [
    "print(classification_report(y_train,Naive.predict(X_train)))"
   ]
  },
  {
   "cell_type": "code",
   "execution_count": 450,
   "id": "688a7fbd",
   "metadata": {},
   "outputs": [
    {
     "name": "stdout",
     "output_type": "stream",
     "text": [
      "              precision    recall  f1-score   support\n",
      "\n",
      "          No       0.78      0.94      0.85     22240\n",
      "         Yes       0.92      0.74      0.82     22372\n",
      "\n",
      "    accuracy                           0.84     44612\n",
      "   macro avg       0.85      0.84      0.83     44612\n",
      "weighted avg       0.85      0.84      0.83     44612\n",
      "\n"
     ]
    }
   ],
   "source": [
    "print(classification_report(y_test,Naive.predict(X_test)))"
   ]
  },
  {
   "cell_type": "markdown",
   "id": "e37bed8e",
   "metadata": {},
   "source": [
    "## `Random Forest`"
   ]
  },
  {
   "cell_type": "code",
   "execution_count": 425,
   "id": "2a05cbbf",
   "metadata": {},
   "outputs": [
    {
     "data": {
      "text/html": [
       "<style>#sk-container-id-30 {color: black;background-color: white;}#sk-container-id-30 pre{padding: 0;}#sk-container-id-30 div.sk-toggleable {background-color: white;}#sk-container-id-30 label.sk-toggleable__label {cursor: pointer;display: block;width: 100%;margin-bottom: 0;padding: 0.3em;box-sizing: border-box;text-align: center;}#sk-container-id-30 label.sk-toggleable__label-arrow:before {content: \"▸\";float: left;margin-right: 0.25em;color: #696969;}#sk-container-id-30 label.sk-toggleable__label-arrow:hover:before {color: black;}#sk-container-id-30 div.sk-estimator:hover label.sk-toggleable__label-arrow:before {color: black;}#sk-container-id-30 div.sk-toggleable__content {max-height: 0;max-width: 0;overflow: hidden;text-align: left;background-color: #f0f8ff;}#sk-container-id-30 div.sk-toggleable__content pre {margin: 0.2em;color: black;border-radius: 0.25em;background-color: #f0f8ff;}#sk-container-id-30 input.sk-toggleable__control:checked~div.sk-toggleable__content {max-height: 200px;max-width: 100%;overflow: auto;}#sk-container-id-30 input.sk-toggleable__control:checked~label.sk-toggleable__label-arrow:before {content: \"▾\";}#sk-container-id-30 div.sk-estimator input.sk-toggleable__control:checked~label.sk-toggleable__label {background-color: #d4ebff;}#sk-container-id-30 div.sk-label input.sk-toggleable__control:checked~label.sk-toggleable__label {background-color: #d4ebff;}#sk-container-id-30 input.sk-hidden--visually {border: 0;clip: rect(1px 1px 1px 1px);clip: rect(1px, 1px, 1px, 1px);height: 1px;margin: -1px;overflow: hidden;padding: 0;position: absolute;width: 1px;}#sk-container-id-30 div.sk-estimator {font-family: monospace;background-color: #f0f8ff;border: 1px dotted black;border-radius: 0.25em;box-sizing: border-box;margin-bottom: 0.5em;}#sk-container-id-30 div.sk-estimator:hover {background-color: #d4ebff;}#sk-container-id-30 div.sk-parallel-item::after {content: \"\";width: 100%;border-bottom: 1px solid gray;flex-grow: 1;}#sk-container-id-30 div.sk-label:hover label.sk-toggleable__label {background-color: #d4ebff;}#sk-container-id-30 div.sk-serial::before {content: \"\";position: absolute;border-left: 1px solid gray;box-sizing: border-box;top: 0;bottom: 0;left: 50%;z-index: 0;}#sk-container-id-30 div.sk-serial {display: flex;flex-direction: column;align-items: center;background-color: white;padding-right: 0.2em;padding-left: 0.2em;position: relative;}#sk-container-id-30 div.sk-item {position: relative;z-index: 1;}#sk-container-id-30 div.sk-parallel {display: flex;align-items: stretch;justify-content: center;background-color: white;position: relative;}#sk-container-id-30 div.sk-item::before, #sk-container-id-30 div.sk-parallel-item::before {content: \"\";position: absolute;border-left: 1px solid gray;box-sizing: border-box;top: 0;bottom: 0;left: 50%;z-index: -1;}#sk-container-id-30 div.sk-parallel-item {display: flex;flex-direction: column;z-index: 1;position: relative;background-color: white;}#sk-container-id-30 div.sk-parallel-item:first-child::after {align-self: flex-end;width: 50%;}#sk-container-id-30 div.sk-parallel-item:last-child::after {align-self: flex-start;width: 50%;}#sk-container-id-30 div.sk-parallel-item:only-child::after {width: 0;}#sk-container-id-30 div.sk-dashed-wrapped {border: 1px dashed gray;margin: 0 0.4em 0.5em 0.4em;box-sizing: border-box;padding-bottom: 0.4em;background-color: white;}#sk-container-id-30 div.sk-label label {font-family: monospace;font-weight: bold;display: inline-block;line-height: 1.2em;}#sk-container-id-30 div.sk-label-container {text-align: center;}#sk-container-id-30 div.sk-container {/* jupyter's `normalize.less` sets `[hidden] { display: none; }` but bootstrap.min.css set `[hidden] { display: none !important; }` so we also need the `!important` here to be able to override the default hidden behavior on the sphinx rendered scikit-learn.org. See: https://github.com/scikit-learn/scikit-learn/issues/21755 */display: inline-block !important;position: relative;}#sk-container-id-30 div.sk-text-repr-fallback {display: none;}</style><div id=\"sk-container-id-30\" class=\"sk-top-container\"><div class=\"sk-text-repr-fallback\"><pre>RandomForestClassifier(max_depth=40, max_features=1.0, max_samples=0.85,\n",
       "                       min_samples_split=40, n_jobs=-1, random_state=93)</pre><b>In a Jupyter environment, please rerun this cell to show the HTML representation or trust the notebook. <br />On GitHub, the HTML representation is unable to render, please try loading this page with nbviewer.org.</b></div><div class=\"sk-container\" hidden><div class=\"sk-item\"><div class=\"sk-estimator sk-toggleable\"><input class=\"sk-toggleable__control sk-hidden--visually\" id=\"sk-estimator-id-58\" type=\"checkbox\" checked><label for=\"sk-estimator-id-58\" class=\"sk-toggleable__label sk-toggleable__label-arrow\">RandomForestClassifier</label><div class=\"sk-toggleable__content\"><pre>RandomForestClassifier(max_depth=40, max_features=1.0, max_samples=0.85,\n",
       "                       min_samples_split=40, n_jobs=-1, random_state=93)</pre></div></div></div></div></div>"
      ],
      "text/plain": [
       "RandomForestClassifier(max_depth=40, max_features=1.0, max_samples=0.85,\n",
       "                       min_samples_split=40, n_jobs=-1, random_state=93)"
      ]
     },
     "execution_count": 425,
     "metadata": {},
     "output_type": "execute_result"
    }
   ],
   "source": [
    "rf = RandomForestClassifier(n_estimators=100,min_samples_split=40,max_depth=40,\n",
    "                       max_features=1.0,max_samples=0.85,random_state=93,n_jobs=-1)\n",
    "rf.fit(Xb_train,yb_train)"
   ]
  },
  {
   "cell_type": "code",
   "execution_count": 426,
   "id": "9e25b606",
   "metadata": {},
   "outputs": [
    {
     "name": "stdout",
     "output_type": "stream",
     "text": [
      "              precision    recall  f1-score   support\n",
      "\n",
      "          No       0.90      0.98      0.94     67431\n",
      "         Yes       0.97      0.89      0.93     66403\n",
      "\n",
      "    accuracy                           0.93    133834\n",
      "   macro avg       0.94      0.93      0.93    133834\n",
      "weighted avg       0.94      0.93      0.93    133834\n",
      "\n"
     ]
    }
   ],
   "source": [
    "print(classification_report(y_train,rf.predict(X_train)))"
   ]
  },
  {
   "cell_type": "code",
   "execution_count": 427,
   "id": "cf60929b",
   "metadata": {},
   "outputs": [
    {
     "name": "stdout",
     "output_type": "stream",
     "text": [
      "              precision    recall  f1-score   support\n",
      "\n",
      "          No       0.89      0.96      0.93     22240\n",
      "         Yes       0.96      0.89      0.92     22372\n",
      "\n",
      "    accuracy                           0.92     44612\n",
      "   macro avg       0.93      0.92      0.92     44612\n",
      "weighted avg       0.93      0.92      0.92     44612\n",
      "\n"
     ]
    }
   ],
   "source": [
    "print(classification_report(y_test,rf.predict(X_test)))"
   ]
  },
  {
   "cell_type": "markdown",
   "id": "98999cf2",
   "metadata": {},
   "source": [
    "## `Gradient Boosting Machine`"
   ]
  },
  {
   "cell_type": "code",
   "execution_count": 413,
   "id": "03b0fe4d",
   "metadata": {},
   "outputs": [
    {
     "data": {
      "text/html": [
       "<style>#sk-container-id-26 {color: black;background-color: white;}#sk-container-id-26 pre{padding: 0;}#sk-container-id-26 div.sk-toggleable {background-color: white;}#sk-container-id-26 label.sk-toggleable__label {cursor: pointer;display: block;width: 100%;margin-bottom: 0;padding: 0.3em;box-sizing: border-box;text-align: center;}#sk-container-id-26 label.sk-toggleable__label-arrow:before {content: \"▸\";float: left;margin-right: 0.25em;color: #696969;}#sk-container-id-26 label.sk-toggleable__label-arrow:hover:before {color: black;}#sk-container-id-26 div.sk-estimator:hover label.sk-toggleable__label-arrow:before {color: black;}#sk-container-id-26 div.sk-toggleable__content {max-height: 0;max-width: 0;overflow: hidden;text-align: left;background-color: #f0f8ff;}#sk-container-id-26 div.sk-toggleable__content pre {margin: 0.2em;color: black;border-radius: 0.25em;background-color: #f0f8ff;}#sk-container-id-26 input.sk-toggleable__control:checked~div.sk-toggleable__content {max-height: 200px;max-width: 100%;overflow: auto;}#sk-container-id-26 input.sk-toggleable__control:checked~label.sk-toggleable__label-arrow:before {content: \"▾\";}#sk-container-id-26 div.sk-estimator input.sk-toggleable__control:checked~label.sk-toggleable__label {background-color: #d4ebff;}#sk-container-id-26 div.sk-label input.sk-toggleable__control:checked~label.sk-toggleable__label {background-color: #d4ebff;}#sk-container-id-26 input.sk-hidden--visually {border: 0;clip: rect(1px 1px 1px 1px);clip: rect(1px, 1px, 1px, 1px);height: 1px;margin: -1px;overflow: hidden;padding: 0;position: absolute;width: 1px;}#sk-container-id-26 div.sk-estimator {font-family: monospace;background-color: #f0f8ff;border: 1px dotted black;border-radius: 0.25em;box-sizing: border-box;margin-bottom: 0.5em;}#sk-container-id-26 div.sk-estimator:hover {background-color: #d4ebff;}#sk-container-id-26 div.sk-parallel-item::after {content: \"\";width: 100%;border-bottom: 1px solid gray;flex-grow: 1;}#sk-container-id-26 div.sk-label:hover label.sk-toggleable__label {background-color: #d4ebff;}#sk-container-id-26 div.sk-serial::before {content: \"\";position: absolute;border-left: 1px solid gray;box-sizing: border-box;top: 0;bottom: 0;left: 50%;z-index: 0;}#sk-container-id-26 div.sk-serial {display: flex;flex-direction: column;align-items: center;background-color: white;padding-right: 0.2em;padding-left: 0.2em;position: relative;}#sk-container-id-26 div.sk-item {position: relative;z-index: 1;}#sk-container-id-26 div.sk-parallel {display: flex;align-items: stretch;justify-content: center;background-color: white;position: relative;}#sk-container-id-26 div.sk-item::before, #sk-container-id-26 div.sk-parallel-item::before {content: \"\";position: absolute;border-left: 1px solid gray;box-sizing: border-box;top: 0;bottom: 0;left: 50%;z-index: -1;}#sk-container-id-26 div.sk-parallel-item {display: flex;flex-direction: column;z-index: 1;position: relative;background-color: white;}#sk-container-id-26 div.sk-parallel-item:first-child::after {align-self: flex-end;width: 50%;}#sk-container-id-26 div.sk-parallel-item:last-child::after {align-self: flex-start;width: 50%;}#sk-container-id-26 div.sk-parallel-item:only-child::after {width: 0;}#sk-container-id-26 div.sk-dashed-wrapped {border: 1px dashed gray;margin: 0 0.4em 0.5em 0.4em;box-sizing: border-box;padding-bottom: 0.4em;background-color: white;}#sk-container-id-26 div.sk-label label {font-family: monospace;font-weight: bold;display: inline-block;line-height: 1.2em;}#sk-container-id-26 div.sk-label-container {text-align: center;}#sk-container-id-26 div.sk-container {/* jupyter's `normalize.less` sets `[hidden] { display: none; }` but bootstrap.min.css set `[hidden] { display: none !important; }` so we also need the `!important` here to be able to override the default hidden behavior on the sphinx rendered scikit-learn.org. See: https://github.com/scikit-learn/scikit-learn/issues/21755 */display: inline-block !important;position: relative;}#sk-container-id-26 div.sk-text-repr-fallback {display: none;}</style><div id=\"sk-container-id-26\" class=\"sk-top-container\"><div class=\"sk-text-repr-fallback\"><pre>GradientBoostingClassifier(learning_rate=1.0, max_depth=4, random_state=93)</pre><b>In a Jupyter environment, please rerun this cell to show the HTML representation or trust the notebook. <br />On GitHub, the HTML representation is unable to render, please try loading this page with nbviewer.org.</b></div><div class=\"sk-container\" hidden><div class=\"sk-item\"><div class=\"sk-estimator sk-toggleable\"><input class=\"sk-toggleable__control sk-hidden--visually\" id=\"sk-estimator-id-54\" type=\"checkbox\" checked><label for=\"sk-estimator-id-54\" class=\"sk-toggleable__label sk-toggleable__label-arrow\">GradientBoostingClassifier</label><div class=\"sk-toggleable__content\"><pre>GradientBoostingClassifier(learning_rate=1.0, max_depth=4, random_state=93)</pre></div></div></div></div></div>"
      ],
      "text/plain": [
       "GradientBoostingClassifier(learning_rate=1.0, max_depth=4, random_state=93)"
      ]
     },
     "execution_count": 413,
     "metadata": {},
     "output_type": "execute_result"
    }
   ],
   "source": [
    "Gb_model = GradientBoostingClassifier(n_estimators=100,random_state=93,max_depth=4,\n",
    "                                      learning_rate=1.0)\n",
    "Gb_model.fit(Xb_train,yb_train)"
   ]
  },
  {
   "cell_type": "code",
   "execution_count": 430,
   "id": "433e0ec5",
   "metadata": {},
   "outputs": [
    {
     "name": "stdout",
     "output_type": "stream",
     "text": [
      "              precision    recall  f1-score   support\n",
      "\n",
      "          No       0.90      0.99      0.94     67431\n",
      "         Yes       0.99      0.88      0.93     66403\n",
      "\n",
      "    accuracy                           0.94    133834\n",
      "   macro avg       0.94      0.94      0.94    133834\n",
      "weighted avg       0.94      0.94      0.94    133834\n",
      "\n"
     ]
    }
   ],
   "source": [
    "print(classification_report(yb_train,Gb_model.predict(Xb_train)))"
   ]
  },
  {
   "cell_type": "code",
   "execution_count": 431,
   "id": "7ebfe10d",
   "metadata": {},
   "outputs": [
    {
     "name": "stdout",
     "output_type": "stream",
     "text": [
      "              precision    recall  f1-score   support\n",
      "\n",
      "          No       0.89      0.98      0.93     22240\n",
      "         Yes       0.98      0.88      0.93     22372\n",
      "\n",
      "    accuracy                           0.93     44612\n",
      "   macro avg       0.93      0.93      0.93     44612\n",
      "weighted avg       0.93      0.93      0.93     44612\n",
      "\n"
     ]
    }
   ],
   "source": [
    "print(classification_report(yb_test,Gb_model.predict(Xb_test)))"
   ]
  }
 ],
 "metadata": {
  "kernelspec": {
   "display_name": "Python 3",
   "language": "python",
   "name": "python3"
  },
  "language_info": {
   "codemirror_mode": {
    "name": "ipython",
    "version": 3
   },
   "file_extension": ".py",
   "mimetype": "text/x-python",
   "name": "python",
   "nbconvert_exporter": "python",
   "pygments_lexer": "ipython3",
   "version": "3.8.8"
  }
 },
 "nbformat": 4,
 "nbformat_minor": 5
}

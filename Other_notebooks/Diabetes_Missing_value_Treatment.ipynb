{
 "cells": [
  {
   "cell_type": "markdown",
   "id": "af0e2b2c",
   "metadata": {},
   "source": [
    "# Missing value Treatment"
   ]
  },
  {
   "cell_type": "code",
   "execution_count": 56,
   "id": "3071bc32",
   "metadata": {},
   "outputs": [],
   "source": [
    "from warnings import filterwarnings\n",
    "filterwarnings(action='ignore')\n",
    "\n",
    "import numpy as np\n",
    "import pandas as pd\n",
    "\n",
    "import matplotlib.pyplot as plt\n",
    "import matplotlib.patches as mpatches\n",
    "import seaborn as sns\n",
    "sns.set_style('darkgrid')\n",
    "import plotly.express as px\n",
    "\n",
    "import scipy.stats as stats\n",
    "from scipy.stats import zscore\n",
    "\n",
    "from sklearn.preprocessing import LabelEncoder,OneHotEncoder,OrdinalEncoder\n",
    "from sklearn.preprocessing import PolynomialFeatures,PowerTransformer,StandardScaler\n",
    "\n",
    "from sklearn.pipeline import Pipeline,make_pipeline\n",
    "from sklearn.compose import ColumnTransformer\n",
    "from sklearn.compose import make_column_selector as selector\n",
    "\n",
    "from sklearn.metrics import classification_report,accuracy_score,precision_score,confusion_matrix\n",
    "from sklearn.metrics import recall_score,f1_score,balanced_accuracy_score\n",
    "from sklearn.metrics import precision_recall_curve\n",
    "\n",
    "from sklearn.model_selection import StratifiedKFold,cross_val_score,train_test_split\n",
    "from sklearn.model_selection import GridSearchCV,RandomizedSearchCV\n",
    "\n",
    "from sklearn.linear_model import LogisticRegression\n",
    "from sklearn.svm import SVC\n",
    "from sklearn.neighbors import KNeighborsClassifier\n",
    "\n",
    "from sklearn.impute import KNNImputer\n",
    "\n",
    "from sklearn.tree import DecisionTreeClassifier\n",
    "from sklearn.ensemble import RandomForestClassifier,BaggingClassifier,VotingClassifier\n",
    "\n",
    "from sklearn.feature_selection import RFE,SelectKBest,SequentialFeatureSelector\n",
    "\n",
    "from imblearn.over_sampling import SMOTE,SMOTEN,SMOTENC\n",
    "\n",
    "import re"
   ]
  },
  {
   "cell_type": "code",
   "execution_count": 57,
   "id": "0297c121",
   "metadata": {},
   "outputs": [],
   "source": [
    "data = pd.read_csv('diabetic_data_original.csv')\n",
    "admission_type = pd.read_excel('Mapping.xlsx',sheet_name='Admission_type_id')\n",
    "discharge_disposition = pd.read_excel('Mapping.xlsx',sheet_name='Discharge_disposition')\n",
    "admission_source = pd.read_excel('Mapping.xlsx',sheet_name='Admission_source_id')"
   ]
  },
  {
   "cell_type": "code",
   "execution_count": 58,
   "id": "080a41eb",
   "metadata": {},
   "outputs": [],
   "source": [
    "df = data.copy()"
   ]
  },
  {
   "cell_type": "code",
   "execution_count": 59,
   "id": "50491563",
   "metadata": {},
   "outputs": [],
   "source": [
    "mapping_1 = dict(zip(discharge_disposition.discharge_disposition_id.values,\n",
    "                     discharge_disposition.description.values))\n",
    "mapping_2 = dict(zip(admission_type.admission_type_id.values,admission_type.description.values))\n",
    "mapping_3 = dict(zip(admission_source.admission_source_id.values,\n",
    "                     admission_source.description.values))"
   ]
  },
  {
   "cell_type": "code",
   "execution_count": 60,
   "id": "2f90ac1c",
   "metadata": {},
   "outputs": [],
   "source": [
    "df.discharge_disposition_id = df.discharge_disposition_id.map(mapping_1).astype('string')\n",
    "df.admission_type_id = df.admission_type_id.map(mapping_2).astype('string')\n",
    "df.admission_source_id = df.admission_source_id.map(mapping_3).astype('string')"
   ]
  },
  {
   "cell_type": "code",
   "execution_count": 61,
   "id": "a34aa021",
   "metadata": {},
   "outputs": [
    {
     "data": {
      "text/plain": [
       "race                  2273\n",
       "weight               98569\n",
       "payer_code           40256\n",
       "medical_specialty    49949\n",
       "diag_1                  21\n",
       "diag_2                 358\n",
       "diag_3                1423\n",
       "dtype: int64"
      ]
     },
     "execution_count": 61,
     "metadata": {},
     "output_type": "execute_result"
    }
   ],
   "source": [
    "df.isin(['?']).sum()[df.isin(['?']).sum() > 0]"
   ]
  },
  {
   "cell_type": "code",
   "execution_count": 62,
   "id": "ce29a551",
   "metadata": {},
   "outputs": [],
   "source": [
    "df = df.replace(to_replace='?',value=np.nan)"
   ]
  },
  {
   "cell_type": "code",
   "execution_count": 63,
   "id": "605d757b",
   "metadata": {},
   "outputs": [
    {
     "data": {
      "text/plain": [
       "race                         2273\n",
       "weight                      98569\n",
       "admission_type_id            5291\n",
       "discharge_disposition_id     3691\n",
       "admission_source_id          6781\n",
       "payer_code                  40256\n",
       "medical_specialty           49949\n",
       "diag_1                         21\n",
       "diag_2                        358\n",
       "diag_3                       1423\n",
       "dtype: int64"
      ]
     },
     "execution_count": 63,
     "metadata": {},
     "output_type": "execute_result"
    }
   ],
   "source": [
    "df.isnull().sum()[df.isnull().sum() > 0]"
   ]
  },
  {
   "cell_type": "code",
   "execution_count": 64,
   "id": "d690bc8f",
   "metadata": {},
   "outputs": [],
   "source": [
    "df = df.rename(columns={'diag_1':'diagnosis_1','diag_2':'diagnosis_2','diag_3':'diagnosis_3'})\n",
    "df['readmitted'] = df.readmitted.map({'<30':'Yes','>30':'No',\n",
    "                                      'NO':'No'})"
   ]
  },
  {
   "cell_type": "markdown",
   "id": "0aa8faee",
   "metadata": {},
   "source": [
    "### Transforming target variable to binary classification"
   ]
  },
  {
   "cell_type": "code",
   "execution_count": 65,
   "id": "f3a0b28c",
   "metadata": {},
   "outputs": [],
   "source": [
    "def Tranform_target(x):\n",
    "    if x == '<30':\n",
    "        return 'Yes'\n",
    "    else:\n",
    "        return 'No'"
   ]
  },
  {
   "cell_type": "code",
   "execution_count": 66,
   "id": "1bd03f99",
   "metadata": {},
   "outputs": [
    {
     "name": "stdout",
     "output_type": "stream",
     "text": [
      "{'metformin-pioglitazone', 'metformin-rosiglitazone', 'troglitazone', 'glimepiride-pioglitazone', 'acetohexamide'}\n"
     ]
    }
   ],
   "source": [
    "patient_info = ['race', 'gender', 'age', 'admission_type_id',\n",
    "                'discharge_disposition_id','admission_source_id',\n",
    "                'medical_specialty','diagnosis_1','diagnosis_2', 'diagnosis_3',\n",
    "                'max_glu_serum', 'A1Cresult','change', 'diabetesMed']\n",
    "\n",
    "# Features which contains no information\n",
    "drop_list_patient_info = ['encounter_id','patient_nbr','weight','payer_code']\n",
    "\n",
    "# Numeric features\n",
    "patient_info_numeric = ['time_in_hospital','num_lab_procedures',\n",
    "                        'num_procedures','num_medications',\n",
    "                        'number_outpatient','number_emergency',\n",
    "                        'number_inpatient','number_diagnoses']\n",
    "\n",
    "# Taking initial decision to keep 16 features\n",
    "feature_medicine = ['metformin','repaglinide', 'nateglinide', \n",
    "                     'chlorpropamide', 'glimepiride', 'glipizide', \n",
    "                     'glyburide', 'tolbutamide','pioglitazone',\n",
    "                     'rosiglitazone', 'acarbose', 'miglitol','tolazamide',\n",
    "                     'insulin','glyburide-metformin', 'glipizide-metformin']\n",
    "\n",
    "# Initial decision to remove 7 features\n",
    "drop_list_medicine = ['acetohexamide','troglitazone','examide','citoglipton',\n",
    "                      'glimepiride-pioglitazone','metformin-rosiglitazone',\n",
    "                      'metformin-pioglitazone']\n",
    "\n",
    "\n",
    "# The medicines which contains 'Steady' & 'No' for encoding purpose\n",
    "two_category_medicine = ['acetohexamide', 'tolbutamide', 'troglitazone',\n",
    "                         'glipizide-metformin', 'glimepiride-pioglitazone',\n",
    "                         'metformin-rosiglitazone', 'metformin-pioglitazone']\n",
    "# ------------------------------------------------------------------\n",
    "# The medicines which contains 'Steady','Up','Down' & 'No' for encoding purpose (14)\n",
    "four_category_medicine = ['metformin','repaglinide', 'nateglinide', 'chlorpropamide',\n",
    "                          'glimepiride','glipizide','glyburide','pioglitazone','rosiglitazone',\n",
    "                          'acarbose','miglitol','tolazamide','insulin','glyburide-metformin'] \n",
    "# ------------------------------------------------------------------\n",
    "# considering these two medicines with only 'steady' & 'No' categories for encoding purpose\n",
    "two_category_medicine_to_be_kept = ['tolbutamide','glipizide-metformin']\n",
    "# ------------------------------------------------------------------                                                \n",
    "# Out of initial removal decision, these 2 are compulsorily removed.\n",
    "single_category_medicine = ['examide', 'citoglipton']\n",
    "                                             \n",
    "\n",
    "print(set(drop_list_medicine) & set(two_category_medicine))\n",
    "\n",
    "dependent = 'readmitted'"
   ]
  },
  {
   "cell_type": "markdown",
   "id": "e27abf45",
   "metadata": {},
   "source": [
    "<a id=\"missing_treatment\"></a>\n",
    "## Missing value Treatment"
   ]
  },
  {
   "cell_type": "code",
   "execution_count": 67,
   "id": "16be61b4",
   "metadata": {},
   "outputs": [
    {
     "data": {
      "text/plain": [
       "race                         2273\n",
       "weight                      98569\n",
       "admission_type_id            5291\n",
       "discharge_disposition_id     3691\n",
       "admission_source_id          6781\n",
       "payer_code                  40256\n",
       "medical_specialty           49949\n",
       "diagnosis_1                    21\n",
       "diagnosis_2                   358\n",
       "diagnosis_3                  1423\n",
       "dtype: int64"
      ]
     },
     "execution_count": 67,
     "metadata": {},
     "output_type": "execute_result"
    }
   ],
   "source": [
    "df.isnull().sum()[df.isnull().sum()>0]"
   ]
  },
  {
   "cell_type": "markdown",
   "id": "b24a1432",
   "metadata": {},
   "source": [
    "### a) RACE"
   ]
  },
  {
   "cell_type": "code",
   "execution_count": 68,
   "id": "823dcc72",
   "metadata": {},
   "outputs": [
    {
     "name": "stdout",
     "output_type": "stream",
     "text": [
      "Patients who have not filled 'race' in one of the visits among multiple visits : 127\n",
      "Missing values before Imputation : 2273\n",
      "Missing values After Imputation : 2129\n"
     ]
    }
   ],
   "source": [
    "# Patients who have visited multiple times\n",
    "\n",
    "both_multiple_visit = list(df['patient_nbr'].value_counts()[df['patient_nbr'].value_counts() > 1].index)\n",
    "\n",
    "# Patients who have not filled 'race' information & visited multiple times\n",
    "\n",
    "race_multiple_but_null = df[(df['patient_nbr'].isin(both_multiple_visit)) & (df['race'].isnull())]\n",
    "race_multiple_but_null_unique = race_multiple_but_null['patient_nbr'].unique()\n",
    "\n",
    "# Patients who have filled 'race' information & visited multiple times\n",
    "\n",
    "race_multiple_but_filled = df[(df['patient_nbr'].isin(both_multiple_visit)) & (df['race'].notna())]\n",
    "race_multiple_but_filled_unique = race_multiple_but_filled['patient_nbr'].unique()\n",
    "\n",
    "patients_imputation = [patient_nbr for patient_nbr in race_multiple_but_null_unique \n",
    " if patient_nbr in race_multiple_but_filled_unique]\n",
    "\n",
    "print(\"Patients who have not filled 'race' in one of the visits among multiple visits :\",\n",
    "     len(patients_imputation))\n",
    "\n",
    "race_imputation_df = race_multiple_but_filled[race_multiple_but_filled['patient_nbr'].isin(patients_imputation)]\n",
    "race_imputation_dict = race_imputation_df.set_index('patient_nbr')['race'].to_dict()\n",
    "\n",
    "def bivariate_imputation(row,map_dict):\n",
    "    if (pd.isna(row['race'])) and (row['patient_nbr'] in map_dict):\n",
    "        row['race'] = map_dict[row['patient_nbr']]\n",
    "    return row\n",
    "\n",
    "# checking null values before imputation\n",
    "\n",
    "print(\"Missing values before Imputation :\",df['race'].isnull().sum())\n",
    "\n",
    "# Filling 'Race' attribute through multiple visits of a particular_patient\n",
    "\n",
    "df = df.apply(bivariate_imputation,axis=1,args=[race_imputation_dict])\n",
    "\n",
    "\n",
    "# Checking null values after imputation\n",
    "\n",
    "print(\"Missing values After Imputation :\",df['race'].isnull().sum())"
   ]
  },
  {
   "cell_type": "code",
   "execution_count": 69,
   "id": "a021c7ed",
   "metadata": {},
   "outputs": [
    {
     "name": "stdout",
     "output_type": "stream",
     "text": [
      "time_in_hospital          : Insignificant\n",
      "num_lab_procedures        : Insignificant\n",
      "num_procedures            : Insignificant\n",
      "num_medications           : Insignificant\n",
      "number_outpatient         : Insignificant\n",
      "number_emergency          : Insignificant\n",
      "number_inpatient          : Insignificant\n",
      "number_diagnoses          : Insignificant\n"
     ]
    }
   ],
   "source": [
    "categories = df['race'].unique().tolist()\n",
    "\n",
    "for feature in patient_info_numeric:\n",
    "    annova = []\n",
    "    for category in categories:\n",
    "        annova.append(df[df['race'] == category][feature].values)\n",
    "    p_value = stats.f_oneway(*annova)[1]\n",
    "    result = {True : \"Significant\",False : \"Insignificant\"}[p_value < 0.05]\n",
    "    print(f\"{feature:25s} : {result}\")\n",
    "    annova = []"
   ]
  },
  {
   "cell_type": "code",
   "execution_count": 70,
   "id": "ba00b15f",
   "metadata": {},
   "outputs": [],
   "source": [
    "# with Annova we can say numerical columns are not significant with respect to Race\n",
    "# Hence we will impute with 'Mode'"
   ]
  },
  {
   "cell_type": "code",
   "execution_count": 71,
   "id": "e18c4679",
   "metadata": {},
   "outputs": [],
   "source": [
    "## but Since 'Caucasian' group is dominated in both the category\n",
    "## We shall fill missing values using iterative Imputer "
   ]
  },
  {
   "cell_type": "markdown",
   "id": "20674317",
   "metadata": {},
   "source": [
    "### Case study on Diagnosis1,2 & 3"
   ]
  },
  {
   "cell_type": "markdown",
   "id": "0cdd0fdb",
   "metadata": {},
   "source": [
    "- Patients who have not filled 'diagnostics_1' information & visited multiple times\n",
    "- taking those patient numbers and checking wheather the diagnosis were same during the subsequent visits ??"
   ]
  },
  {
   "cell_type": "code",
   "execution_count": 72,
   "id": "15a5ecff",
   "metadata": {},
   "outputs": [],
   "source": [
    "multiple_visit = both_multiple_visit\n",
    "\n",
    "diag_1 = df[(df['patient_nbr'].isin(multiple_visit)) & \n",
    "            (df['diagnosis_1'].isnull())]['patient_nbr'].values"
   ]
  },
  {
   "cell_type": "code",
   "execution_count": 73,
   "id": "fc1956b7",
   "metadata": {},
   "outputs": [
    {
     "data": {
      "text/html": [
       "<div>\n",
       "<style scoped>\n",
       "    .dataframe tbody tr th:only-of-type {\n",
       "        vertical-align: middle;\n",
       "    }\n",
       "\n",
       "    .dataframe tbody tr th {\n",
       "        vertical-align: top;\n",
       "    }\n",
       "\n",
       "    .dataframe thead th {\n",
       "        text-align: right;\n",
       "    }\n",
       "</style>\n",
       "<table border=\"1\" class=\"dataframe\">\n",
       "  <thead>\n",
       "    <tr style=\"text-align: right;\">\n",
       "      <th></th>\n",
       "      <th>patient_nbr</th>\n",
       "      <th>diagnosis_1</th>\n",
       "      <th>diagnosis_2</th>\n",
       "      <th>diagnosis_3</th>\n",
       "    </tr>\n",
       "  </thead>\n",
       "  <tbody>\n",
       "    <tr>\n",
       "      <th>4643</th>\n",
       "      <td>916947</td>\n",
       "      <td>440</td>\n",
       "      <td>295</td>\n",
       "      <td>250.01</td>\n",
       "    </tr>\n",
       "    <tr>\n",
       "      <th>5332</th>\n",
       "      <td>4232736</td>\n",
       "      <td>428</td>\n",
       "      <td>425</td>\n",
       "      <td>250.6</td>\n",
       "    </tr>\n",
       "    <tr>\n",
       "      <th>5673</th>\n",
       "      <td>4232736</td>\n",
       "      <td>617</td>\n",
       "      <td>425</td>\n",
       "      <td>250</td>\n",
       "    </tr>\n",
       "    <tr>\n",
       "      <th>10509</th>\n",
       "      <td>4232736</td>\n",
       "      <td>276</td>\n",
       "      <td>425</td>\n",
       "      <td>428</td>\n",
       "    </tr>\n",
       "    <tr>\n",
       "      <th>1918</th>\n",
       "      <td>9946782</td>\n",
       "      <td>440</td>\n",
       "      <td>444</td>\n",
       "      <td>496</td>\n",
       "    </tr>\n",
       "    <tr>\n",
       "      <th>5676</th>\n",
       "      <td>18328716</td>\n",
       "      <td>250.02</td>\n",
       "      <td>707</td>\n",
       "      <td>823</td>\n",
       "    </tr>\n",
       "    <tr>\n",
       "      <th>28162</th>\n",
       "      <td>23460408</td>\n",
       "      <td>490</td>\n",
       "      <td>V42</td>\n",
       "      <td>427</td>\n",
       "    </tr>\n",
       "    <tr>\n",
       "      <th>15440</th>\n",
       "      <td>23460408</td>\n",
       "      <td>788</td>\n",
       "      <td>599</td>\n",
       "      <td>250</td>\n",
       "    </tr>\n",
       "  </tbody>\n",
       "</table>\n",
       "</div>"
      ],
      "text/plain": [
       "       patient_nbr diagnosis_1 diagnosis_2 diagnosis_3\n",
       "4643        916947         440         295      250.01\n",
       "5332       4232736         428         425       250.6\n",
       "5673       4232736         617         425         250\n",
       "10509      4232736         276         425         428\n",
       "1918       9946782         440         444         496\n",
       "5676      18328716      250.02         707         823\n",
       "28162     23460408         490         V42         427\n",
       "15440     23460408         788         599         250"
      ]
     },
     "execution_count": 73,
     "metadata": {},
     "output_type": "execute_result"
    }
   ],
   "source": [
    "df[(df['patient_nbr'].isin(diag_1)) \n",
    "   & (df['diagnosis_1'].notna())][['patient_nbr','diagnosis_1',\n",
    "                              'diagnosis_2','diagnosis_3']].sort_values(by=['patient_nbr']).head(8)"
   ]
  },
  {
   "cell_type": "code",
   "execution_count": 74,
   "id": "6d482789",
   "metadata": {},
   "outputs": [],
   "source": [
    "# from above Dataframe we can find out that during multiple visits\n",
    "# patient's were diagnosed with different diagnosis compared to previous visits"
   ]
  },
  {
   "cell_type": "markdown",
   "id": "91418b2e",
   "metadata": {},
   "source": [
    "- Patients who have not filled 'diagnostics_2' information & visited multiple times"
   ]
  },
  {
   "cell_type": "code",
   "execution_count": 75,
   "id": "a39bcca1",
   "metadata": {},
   "outputs": [],
   "source": [
    "diagnosis_2 = df[(df['patient_nbr'].isin(multiple_visit)) \n",
    "            & (df['diagnosis_2'].isnull())]['patient_nbr'].values"
   ]
  },
  {
   "cell_type": "code",
   "execution_count": 76,
   "id": "b4277f4f",
   "metadata": {},
   "outputs": [
    {
     "data": {
      "text/html": [
       "<div>\n",
       "<style scoped>\n",
       "    .dataframe tbody tr th:only-of-type {\n",
       "        vertical-align: middle;\n",
       "    }\n",
       "\n",
       "    .dataframe tbody tr th {\n",
       "        vertical-align: top;\n",
       "    }\n",
       "\n",
       "    .dataframe thead th {\n",
       "        text-align: right;\n",
       "    }\n",
       "</style>\n",
       "<table border=\"1\" class=\"dataframe\">\n",
       "  <thead>\n",
       "    <tr style=\"text-align: right;\">\n",
       "      <th></th>\n",
       "      <th>patient_nbr</th>\n",
       "      <th>diagnosis_1</th>\n",
       "      <th>diagnosis_2</th>\n",
       "      <th>diagnosis_3</th>\n",
       "    </tr>\n",
       "  </thead>\n",
       "  <tbody>\n",
       "    <tr>\n",
       "      <th>26258</th>\n",
       "      <td>176607</td>\n",
       "      <td>440</td>\n",
       "      <td>414</td>\n",
       "      <td>401</td>\n",
       "    </tr>\n",
       "    <tr>\n",
       "      <th>27226</th>\n",
       "      <td>287640</td>\n",
       "      <td>250.13</td>\n",
       "      <td>276</td>\n",
       "      <td>NaN</td>\n",
       "    </tr>\n",
       "    <tr>\n",
       "      <th>19410</th>\n",
       "      <td>1386945</td>\n",
       "      <td>296</td>\n",
       "      <td>250.01</td>\n",
       "      <td>746</td>\n",
       "    </tr>\n",
       "    <tr>\n",
       "      <th>2653</th>\n",
       "      <td>1386945</td>\n",
       "      <td>250.13</td>\n",
       "      <td>276</td>\n",
       "      <td>NaN</td>\n",
       "    </tr>\n",
       "    <tr>\n",
       "      <th>14983</th>\n",
       "      <td>1473309</td>\n",
       "      <td>250.13</td>\n",
       "      <td>427</td>\n",
       "      <td>427</td>\n",
       "    </tr>\n",
       "    <tr>\n",
       "      <th>13880</th>\n",
       "      <td>1473309</td>\n",
       "      <td>250.6</td>\n",
       "      <td>536</td>\n",
       "      <td>337</td>\n",
       "    </tr>\n",
       "    <tr>\n",
       "      <th>9370</th>\n",
       "      <td>1473309</td>\n",
       "      <td>250.13</td>\n",
       "      <td>276</td>\n",
       "      <td>V15</td>\n",
       "    </tr>\n",
       "    <tr>\n",
       "      <th>22612</th>\n",
       "      <td>1473309</td>\n",
       "      <td>250.11</td>\n",
       "      <td>276</td>\n",
       "      <td>250.6</td>\n",
       "    </tr>\n",
       "  </tbody>\n",
       "</table>\n",
       "</div>"
      ],
      "text/plain": [
       "       patient_nbr diagnosis_1 diagnosis_2 diagnosis_3\n",
       "26258       176607         440         414         401\n",
       "27226       287640      250.13         276         NaN\n",
       "19410      1386945         296      250.01         746\n",
       "2653       1386945      250.13         276         NaN\n",
       "14983      1473309      250.13         427         427\n",
       "13880      1473309       250.6         536         337\n",
       "9370       1473309      250.13         276         V15\n",
       "22612      1473309      250.11         276       250.6"
      ]
     },
     "execution_count": 76,
     "metadata": {},
     "output_type": "execute_result"
    }
   ],
   "source": [
    "df[(df['patient_nbr'].isin(diagnosis_2)) \n",
    "   & (df['diagnosis_2'].notna())][['patient_nbr','diagnosis_1',\n",
    "                              'diagnosis_2','diagnosis_3']].sort_values(by=['patient_nbr']).head(8)"
   ]
  },
  {
   "cell_type": "markdown",
   "id": "0e25ea56",
   "metadata": {},
   "source": [
    "- Patients who have not filled 'diagnostics_3' information & visited multiple times"
   ]
  },
  {
   "cell_type": "code",
   "execution_count": 77,
   "id": "4bc04f8c",
   "metadata": {},
   "outputs": [],
   "source": [
    "diagnosis_3 = df[(df['patient_nbr'].isin(multiple_visit)) \n",
    "            & (df['diagnosis_3'].isnull())]['patient_nbr'].values"
   ]
  },
  {
   "cell_type": "code",
   "execution_count": 78,
   "id": "96c45e4f",
   "metadata": {},
   "outputs": [
    {
     "data": {
      "text/html": [
       "<div>\n",
       "<style scoped>\n",
       "    .dataframe tbody tr th:only-of-type {\n",
       "        vertical-align: middle;\n",
       "    }\n",
       "\n",
       "    .dataframe tbody tr th {\n",
       "        vertical-align: top;\n",
       "    }\n",
       "\n",
       "    .dataframe thead th {\n",
       "        text-align: right;\n",
       "    }\n",
       "</style>\n",
       "<table border=\"1\" class=\"dataframe\">\n",
       "  <thead>\n",
       "    <tr style=\"text-align: right;\">\n",
       "      <th></th>\n",
       "      <th>patient_nbr</th>\n",
       "      <th>diagnosis_1</th>\n",
       "      <th>diagnosis_2</th>\n",
       "      <th>diagnosis_3</th>\n",
       "    </tr>\n",
       "  </thead>\n",
       "  <tbody>\n",
       "    <tr>\n",
       "      <th>14180</th>\n",
       "      <td>1152</td>\n",
       "      <td>282</td>\n",
       "      <td>276</td>\n",
       "      <td>428</td>\n",
       "    </tr>\n",
       "    <tr>\n",
       "      <th>24642</th>\n",
       "      <td>1152</td>\n",
       "      <td>282</td>\n",
       "      <td>287</td>\n",
       "      <td>466</td>\n",
       "    </tr>\n",
       "    <tr>\n",
       "      <th>5953</th>\n",
       "      <td>1152</td>\n",
       "      <td>282</td>\n",
       "      <td>794</td>\n",
       "      <td>250</td>\n",
       "    </tr>\n",
       "    <tr>\n",
       "      <th>14289</th>\n",
       "      <td>24030</td>\n",
       "      <td>250.13</td>\n",
       "      <td>276</td>\n",
       "      <td>276</td>\n",
       "    </tr>\n",
       "    <tr>\n",
       "      <th>27478</th>\n",
       "      <td>40158</td>\n",
       "      <td>250.13</td>\n",
       "      <td>263</td>\n",
       "      <td>34</td>\n",
       "    </tr>\n",
       "    <tr>\n",
       "      <th>16944</th>\n",
       "      <td>40158</td>\n",
       "      <td>250.13</td>\n",
       "      <td>466</td>\n",
       "      <td>462</td>\n",
       "    </tr>\n",
       "    <tr>\n",
       "      <th>8186</th>\n",
       "      <td>40158</td>\n",
       "      <td>250.11</td>\n",
       "      <td>276</td>\n",
       "      <td>599</td>\n",
       "    </tr>\n",
       "    <tr>\n",
       "      <th>13470</th>\n",
       "      <td>40158</td>\n",
       "      <td>250.13</td>\n",
       "      <td>599</td>\n",
       "      <td>788</td>\n",
       "    </tr>\n",
       "  </tbody>\n",
       "</table>\n",
       "</div>"
      ],
      "text/plain": [
       "       patient_nbr diagnosis_1 diagnosis_2 diagnosis_3\n",
       "14180         1152         282         276         428\n",
       "24642         1152         282         287         466\n",
       "5953          1152         282         794         250\n",
       "14289        24030      250.13         276         276\n",
       "27478        40158      250.13         263          34\n",
       "16944        40158      250.13         466         462\n",
       "8186         40158      250.11         276         599\n",
       "13470        40158      250.13         599         788"
      ]
     },
     "execution_count": 78,
     "metadata": {},
     "output_type": "execute_result"
    }
   ],
   "source": [
    "df[(df['patient_nbr'].isin(diagnosis_3)) \n",
    "   & (df['diagnosis_3'].notna())][['patient_nbr','diagnosis_1',\n",
    "                              'diagnosis_2','diagnosis_3']].sort_values(by=['patient_nbr']).head(8)"
   ]
  },
  {
   "cell_type": "code",
   "execution_count": 79,
   "id": "79fc71c7",
   "metadata": {},
   "outputs": [],
   "source": [
    "# From this we can say, patients on subsequent visits have different\n",
    "# primary_diagnosis\n",
    "# Secondary_diagnosis\n",
    "# Additional_secondary_diagnosis\n",
    "\n",
    "# So we decide not to fill missing values using this technique"
   ]
  },
  {
   "cell_type": "markdown",
   "id": "fca43736",
   "metadata": {},
   "source": [
    "## Feature Encoding 'Gender'"
   ]
  },
  {
   "cell_type": "code",
   "execution_count": 80,
   "id": "bbeac6dc",
   "metadata": {},
   "outputs": [],
   "source": [
    "# Since there are very few category 'Unknown/Invalid' \n",
    "# we will replace it with 'mode'\n",
    "\n",
    "df['gender'] = df['gender'].replace('Unknown/Invalid',df['gender'].mode()[0])"
   ]
  },
  {
   "cell_type": "code",
   "execution_count": 81,
   "id": "ca5d227c",
   "metadata": {},
   "outputs": [
    {
     "data": {
      "image/png": "[encoded data removed]",
      "text/plain": [
       "<Figure size 500x500 with 1 Axes>"
      ]
     },
     "metadata": {},
     "output_type": "display_data"
    }
   ],
   "source": [
    "plt.subplots(figsize=(5,5))\n",
    "sns.countplot(x=df['gender'],hue=df['readmitted'])\n",
    "plt.title(\"Gender distribution in Target\")\n",
    "plt.xlabel(\"Gender categories\",labelpad=15.0,fontsize=11)\n",
    "plt.ylabel(\"Number of patients\",labelpad=15.0,fontsize=11)\n",
    "plt.show()"
   ]
  },
  {
   "cell_type": "markdown",
   "id": "61183698",
   "metadata": {},
   "source": [
    "## Transforming feature 'Admission source'"
   ]
  },
  {
   "cell_type": "code",
   "execution_count": 82,
   "id": "f221dc94",
   "metadata": {},
   "outputs": [],
   "source": [
    "def admission_source_encoding(x):\n",
    "    if 'Referral' in str(x).split():\n",
    "        return 'Referral'\n",
    "    elif 'Emergency' in str(x).split():\n",
    "        return 'Emergency'\n",
    "    else:\n",
    "        return 'other'\n",
    "df.admission_source_id = df.admission_source_id.map(admission_source_encoding)"
   ]
  },
  {
   "cell_type": "code",
   "execution_count": 83,
   "id": "bb1725b3",
   "metadata": {},
   "outputs": [
    {
     "data": {
      "image/png": "[encoded data removed]",
      "text/plain": [
       "<Figure size 640x480 with 1 Axes>"
      ]
     },
     "metadata": {},
     "output_type": "display_data"
    }
   ],
   "source": [
    "sns.countplot(x=df['admission_source_id'],hue=df['readmitted'])\n",
    "plt.title(\"Admission source\")\n",
    "plt.xlabel(\"Admission source categories\",labelpad=15.0,fontsize=11)\n",
    "plt.ylabel(\"Number of patients\",labelpad=15.0,fontsize=11)\n",
    "plt.show()"
   ]
  },
  {
   "cell_type": "code",
   "execution_count": 84,
   "id": "c446995e",
   "metadata": {},
   "outputs": [
    {
     "data": {
      "text/plain": [
       "Emergency    57494\n",
       "Referral     30856\n",
       "other        13416\n",
       "Name: admission_source_id, dtype: int64"
      ]
     },
     "execution_count": 84,
     "metadata": {},
     "output_type": "execute_result"
    }
   ],
   "source": [
    "df.admission_source_id.value_counts()"
   ]
  },
  {
   "cell_type": "markdown",
   "id": "eadb3cb9",
   "metadata": {},
   "source": [
    "## Transforming feature 'Admission type'"
   ]
  },
  {
   "cell_type": "code",
   "execution_count": 85,
   "id": "3890ff09",
   "metadata": {},
   "outputs": [],
   "source": [
    "## We also have categorical variable in Admission_type_encoding\n",
    "## That will be mapped to 'Other' category"
   ]
  },
  {
   "cell_type": "code",
   "execution_count": 86,
   "id": "b24de7f0",
   "metadata": {},
   "outputs": [
    {
     "data": {
      "text/plain": [
       "Emergency        53990\n",
       "Elective         18869\n",
       "Urgent           18480\n",
       "<NA>              5291\n",
       "Not Available     4785\n",
       "Not Mapped         320\n",
       "Trauma Center       21\n",
       "Newborn             10\n",
       "Name: admission_type_id, dtype: int64"
      ]
     },
     "execution_count": 86,
     "metadata": {},
     "output_type": "execute_result"
    }
   ],
   "source": [
    "df.admission_type_id.value_counts(dropna=False)"
   ]
  },
  {
   "cell_type": "code",
   "execution_count": 87,
   "id": "7ec63a9c",
   "metadata": {},
   "outputs": [
    {
     "data": {
      "text/plain": [
       "5291"
      ]
     },
     "execution_count": 87,
     "metadata": {},
     "output_type": "execute_result"
    }
   ],
   "source": [
    "df.admission_type_id.isnull().sum()"
   ]
  },
  {
   "cell_type": "code",
   "execution_count": 88,
   "id": "d02d87e7",
   "metadata": {},
   "outputs": [],
   "source": [
    "df.loc[df.admission_type_id.isnull(),'admission_type_id'] = np.nan"
   ]
  },
  {
   "cell_type": "markdown",
   "id": "4f1f8359",
   "metadata": {},
   "source": [
    "## Transforming feature 'Admission type'"
   ]
  },
  {
   "cell_type": "code",
   "execution_count": 89,
   "id": "14e287f0",
   "metadata": {},
   "outputs": [],
   "source": [
    "def admission_type_encoding(x):\n",
    "    if pd.isna(x):\n",
    "        return 'No mention'\n",
    "    elif x in ['Not Available','Not Mapped','Trauma Center','Newborn']:\n",
    "        return 'others'\n",
    "    else:\n",
    "        return x\n",
    "df.admission_type_id = df.admission_type_id.map(admission_type_encoding)"
   ]
  },
  {
   "cell_type": "code",
   "execution_count": 90,
   "id": "e8a0bd72",
   "metadata": {},
   "outputs": [
    {
     "data": {
      "image/png": "[encoded data removed]",
      "text/plain": [
       "<Figure size 640x480 with 1 Axes>"
      ]
     },
     "metadata": {},
     "output_type": "display_data"
    }
   ],
   "source": [
    "sns.countplot(x=df['admission_type_id'],hue=df['readmitted'])\n",
    "plt.title(\"Admission type\")\n",
    "plt.xlabel(\"Discharge category\",labelpad=15.0,fontsize=11)\n",
    "plt.ylabel(\"Number of patients\",labelpad=15.0,fontsize=11)\n",
    "plt.show()"
   ]
  },
  {
   "cell_type": "code",
   "execution_count": 91,
   "id": "6a90246f",
   "metadata": {},
   "outputs": [
    {
     "data": {
      "text/plain": [
       "Emergency     53990\n",
       "Elective      18869\n",
       "Urgent        18480\n",
       "No mention     5291\n",
       "others         5136\n",
       "Name: admission_type_id, dtype: int64"
      ]
     },
     "execution_count": 91,
     "metadata": {},
     "output_type": "execute_result"
    }
   ],
   "source": [
    "df.admission_type_id.value_counts()"
   ]
  },
  {
   "cell_type": "markdown",
   "id": "f2c124eb",
   "metadata": {},
   "source": [
    "## Transforming feature 'Discharge_disposition'"
   ]
  },
  {
   "cell_type": "code",
   "execution_count": 92,
   "id": "724afe30",
   "metadata": {},
   "outputs": [
    {
     "data": {
      "text/plain": [
       "25"
      ]
     },
     "execution_count": 92,
     "metadata": {},
     "output_type": "execute_result"
    }
   ],
   "source": [
    "df.discharge_disposition_id.value_counts().count()"
   ]
  },
  {
   "cell_type": "code",
   "execution_count": 93,
   "id": "9f92e6b0",
   "metadata": {},
   "outputs": [
    {
     "name": "stdout",
     "output_type": "stream",
     "text": [
      "The unique sub-category in Discharge disposition is : 26\n"
     ]
    }
   ],
   "source": [
    "## Number of unique levels in Discharge disposition\n",
    "\n",
    "print(\"The unique sub-category in Discharge disposition is :\",\n",
    "      len(df.discharge_disposition_id.unique()))"
   ]
  },
  {
   "cell_type": "code",
   "execution_count": 94,
   "id": "cd221603",
   "metadata": {},
   "outputs": [],
   "source": [
    "df.discharge_disposition_id = df.discharge_disposition_id.astype(str)"
   ]
  },
  {
   "cell_type": "markdown",
   "id": "2f57e41d",
   "metadata": {},
   "source": [
    "## Transforming feature 'Discharge_disposition'"
   ]
  },
  {
   "cell_type": "code",
   "execution_count": 95,
   "id": "0bb1c7fd",
   "metadata": {},
   "outputs": [],
   "source": [
    "def dishcharge_encoding(x):\n",
    "    # let us remove patients who are transferred to 'Hospice' or 'expired'\n",
    "    if ('hospice' in str(x).lower()) or ('Expired' in str(x).lower()):\n",
    "        return np.nan\n",
    "    elif 'discharged to home' in str(x).lower():\n",
    "        return 'Discharge'\n",
    "    elif 'transfer' in str(x).lower():\n",
    "        return 'Transfer'\n",
    "    else:\n",
    "        return 'Other'\n",
    "df.discharge_disposition_id = df.discharge_disposition_id.apply(dishcharge_encoding)"
   ]
  },
  {
   "cell_type": "code",
   "execution_count": 96,
   "id": "d17ff9e7",
   "metadata": {},
   "outputs": [],
   "source": [
    "# Delete records which are from hospice, Expired"
   ]
  },
  {
   "cell_type": "code",
   "execution_count": 97,
   "id": "32c201b1",
   "metadata": {},
   "outputs": [],
   "source": [
    "discharge_drop_index = df.discharge_disposition_id[df.discharge_disposition_id.isnull() == True].index"
   ]
  },
  {
   "cell_type": "code",
   "execution_count": 98,
   "id": "685f7dad",
   "metadata": {},
   "outputs": [],
   "source": [
    "df = df.dropna(subset=['discharge_disposition_id'])"
   ]
  },
  {
   "cell_type": "code",
   "execution_count": 99,
   "id": "52364905",
   "metadata": {},
   "outputs": [],
   "source": [
    "df = df.reset_index(drop=True)"
   ]
  },
  {
   "cell_type": "code",
   "execution_count": 100,
   "id": "c1e659fb",
   "metadata": {},
   "outputs": [
    {
     "data": {
      "text/plain": [
       "(100985, 50)"
      ]
     },
     "execution_count": 100,
     "metadata": {},
     "output_type": "execute_result"
    }
   ],
   "source": [
    "df.shape"
   ]
  },
  {
   "cell_type": "code",
   "execution_count": 101,
   "id": "acecb995",
   "metadata": {},
   "outputs": [
    {
     "data": {
      "image/png": "[encoded data removed]",
      "text/plain": [
       "<Figure size 640x480 with 1 Axes>"
      ]
     },
     "metadata": {},
     "output_type": "display_data"
    }
   ],
   "source": [
    "sns.countplot(x=df['discharge_disposition_id'],hue=df['readmitted'])\n",
    "plt.title(\"Discharge disposition\")\n",
    "plt.xlabel(\"Discharge category\",labelpad=15.0,fontsize=11.0)\n",
    "plt.ylabel(\"Number of patients\",labelpad=15.0,fontsize=11.0)\n",
    "plt.show()"
   ]
  },
  {
   "cell_type": "code",
   "execution_count": 102,
   "id": "c39d8b44",
   "metadata": {},
   "outputs": [],
   "source": [
    "# Converting all strings to -1 to make attribute homogeneous\n",
    "# Converting these columns to float64 datatype\n",
    "\n",
    "diagnosis = ['diagnosis_1','diagnosis_2','diagnosis_3']\n",
    "for diag in diagnosis:\n",
    "    df[diag].loc[df[diag].astype('string').str.contains('[A-Za-z].+[0-9]*')] = -1\n",
    "    df[diag] = df[diag].astype(np.float64)"
   ]
  },
  {
   "cell_type": "code",
   "execution_count": 103,
   "id": "1e7e49a4",
   "metadata": {},
   "outputs": [],
   "source": [
    "def diagnosis_encoding(x):\n",
    "    if pd.isna(x):\n",
    "        return np.nan\n",
    "    elif (x >= 140) and (x <= 239):\n",
    "        return 'Neoplasms'\n",
    "    elif x == 785 or (x >=390 and x <= 459):\n",
    "        return 'circulatory'\n",
    "    elif x == 786 or (x >= 460 and x <= 519):\n",
    "        return 'Respiratory'\n",
    "    elif x == 787 or (x >= 520 and x <= 579):\n",
    "        return 'Digestive'\n",
    "    elif x >= 250 and (x >= 250 and x <= 251):\n",
    "        return 'Diabetes'\n",
    "    elif x >= 800 and x <= 1000:\n",
    "        return 'Injury'\n",
    "    elif x >= 710 and x <= 739:\n",
    "        return 'Musculoskeletal'\n",
    "    elif (x >=580 and x <= 629) or x == 788: \n",
    "        return 'Genitourinary'\n",
    "    elif x == -1:\n",
    "        return 'other'\n",
    "    else: \n",
    "        return 'other'"
   ]
  },
  {
   "cell_type": "code",
   "execution_count": 104,
   "id": "a9b96334",
   "metadata": {},
   "outputs": [],
   "source": [
    "# Applying function to primary, secondary and Additional secondary columnnosis\n",
    "\n",
    "diagnosis = ['diagnosis_1','diagnosis_2','diagnosis_3']\n",
    "\n",
    "for column in diagnosis:\n",
    "    df[column] = df[column].apply(diagnosis_encoding)"
   ]
  },
  {
   "cell_type": "markdown",
   "id": "f00daadf",
   "metadata": {},
   "source": [
    "## Encoding feature 'Medical speciality'"
   ]
  },
  {
   "cell_type": "code",
   "execution_count": 106,
   "id": "df7749c4",
   "metadata": {},
   "outputs": [
    {
     "data": {
      "text/plain": [
       "InternalMedicine              14544\n",
       "Emergency/Trauma               7527\n",
       "Family/GeneralPractice         7390\n",
       "Cardiology                     5335\n",
       "Surgery-General                3090\n",
       "Nephrology                     1608\n",
       "Orthopedics                    1398\n",
       "Orthopedics-Reconstructive     1232\n",
       "Radiologist                    1131\n",
       "Pulmonology                     869\n",
       "Name: medical_specialty, dtype: int64"
      ]
     },
     "execution_count": 106,
     "metadata": {},
     "output_type": "execute_result"
    }
   ],
   "source": [
    "df.medical_specialty.value_counts().nlargest(10)"
   ]
  },
  {
   "cell_type": "code",
   "execution_count": 46,
   "id": "1e0e5908",
   "metadata": {},
   "outputs": [],
   "source": [
    "# since there are more than 50% missing values, we will consider them as 'Missing category'"
   ]
  },
  {
   "cell_type": "markdown",
   "id": "96cae4dd",
   "metadata": {},
   "source": [
    "### Transforming feature 'Medical speciality'"
   ]
  },
  {
   "cell_type": "code",
   "execution_count": 107,
   "id": "c90bf669",
   "metadata": {},
   "outputs": [],
   "source": [
    "def medical_speciality_encoding(x):\n",
    "    if pd.isna(x):\n",
    "        return 'No mention'\n",
    "    else:\n",
    "        if x in 'InternalMedicine':\n",
    "            return 'InternalMedicine'\n",
    "        elif x in 'Emergency/Trauma':\n",
    "            return 'Emergency/Trauma'\n",
    "        elif x in 'Family/GeneralPractise':\n",
    "            return 'Family/GeneralPractise'\n",
    "        elif x in 'Cardiology':\n",
    "            return 'Cardiology'\n",
    "        elif 'Surgery' in x:\n",
    "            return 'Surgery'\n",
    "        else:\n",
    "            return 'Others'\n",
    "\n",
    "df.medical_specialty = df.medical_specialty.apply(medical_speciality_encoding)"
   ]
  },
  {
   "cell_type": "code",
   "execution_count": 108,
   "id": "85416933",
   "metadata": {},
   "outputs": [
    {
     "data": {
      "text/plain": [
       "No mention          49435\n",
       "Others              19126\n",
       "InternalMedicine    14544\n",
       "Emergency/Trauma     7527\n",
       "Cardiology           5335\n",
       "Surgery              5018\n",
       "Name: medical_specialty, dtype: int64"
      ]
     },
     "execution_count": 108,
     "metadata": {},
     "output_type": "execute_result"
    }
   ],
   "source": [
    "df.medical_specialty.value_counts(dropna=False)"
   ]
  },
  {
   "cell_type": "code",
   "execution_count": 109,
   "id": "70e9fe8e",
   "metadata": {},
   "outputs": [
    {
     "data": {
      "image/png": "[encoded data removed]",
      "text/plain": [
       "<Figure size 640x480 with 1 Axes>"
      ]
     },
     "metadata": {},
     "output_type": "display_data"
    }
   ],
   "source": [
    "sns.countplot(y=df['medical_specialty'],hue=df['readmitted'])\n",
    "plt.title(\"Medical speciality\")\n",
    "plt.xlabel(\"Number of patients\",labelpad=15.0,fontsize=11.0)\n",
    "plt.ylabel(\"Medical speciality category\",labelpad=15.0,fontsize=11.0)\n",
    "plt.show()"
   ]
  },
  {
   "cell_type": "code",
   "execution_count": 110,
   "id": "0f8ff34d",
   "metadata": {},
   "outputs": [
    {
     "data": {
      "text/plain": [
       "Emergency     53473\n",
       "Elective      18797\n",
       "Urgent        18382\n",
       "No mention     5270\n",
       "others         5063\n",
       "Name: admission_type_id, dtype: int64"
      ]
     },
     "execution_count": 110,
     "metadata": {},
     "output_type": "execute_result"
    }
   ],
   "source": [
    "df.admission_type_id.value_counts()"
   ]
  },
  {
   "cell_type": "code",
   "execution_count": 111,
   "id": "37423e35",
   "metadata": {},
   "outputs": [
    {
     "data": {
      "text/plain": [
       "race            2124\n",
       "weight         97819\n",
       "payer_code     40062\n",
       "diagnosis_1       20\n",
       "diagnosis_2      356\n",
       "diagnosis_3     1421\n",
       "dtype: int64"
      ]
     },
     "execution_count": 111,
     "metadata": {},
     "output_type": "execute_result"
    }
   ],
   "source": [
    "df.isnull().sum()[df.isnull().sum() > 0]"
   ]
  },
  {
   "cell_type": "code",
   "execution_count": 54,
   "id": "ec769179",
   "metadata": {},
   "outputs": [],
   "source": [
    "single_category = df[feature_medicine + drop_list_medicine].nunique()[df[feature_medicine + drop_list_medicine]\n",
    "                                                     .nunique() == 1].index.tolist()\n",
    "two_category = df[feature_medicine + drop_list_medicine].nunique()[df[feature_medicine + drop_list_medicine]\n",
    "                                                     .nunique() == 2].index.tolist()\n",
    "four_category = df[feature_medicine + drop_list_medicine].nunique()[df[feature_medicine + drop_list_medicine]\n",
    "                                                     .nunique() == 4].index.tolist()"
   ]
  },
  {
   "cell_type": "markdown",
   "id": "38989e38",
   "metadata": {},
   "source": [
    "### Checking for dependency of diagnosis_1, diagnosis_2 & diagnosis_3"
   ]
  },
  {
   "cell_type": "code",
   "execution_count": 112,
   "id": "8310ca6d",
   "metadata": {},
   "outputs": [
    {
     "data": {
      "text/plain": [
       "array(['Diabetes', 'other', 'Neoplasms', 'circulatory', 'Respiratory',\n",
       "       'Injury', 'Musculoskeletal', 'Digestive', 'Genitourinary', nan],\n",
       "      dtype=object)"
      ]
     },
     "execution_count": 112,
     "metadata": {},
     "output_type": "execute_result"
    }
   ],
   "source": [
    "df.diagnosis_1.unique()"
   ]
  },
  {
   "cell_type": "code",
   "execution_count": 113,
   "id": "d5be179d",
   "metadata": {},
   "outputs": [],
   "source": [
    "numeric_features = df.select_dtypes(np.number).columns.difference(['encounter_id',\n",
    "                                                                   'patient_nbr']).tolist()"
   ]
  },
  {
   "cell_type": "code",
   "execution_count": 114,
   "id": "119c0b47",
   "metadata": {},
   "outputs": [],
   "source": [
    "categories = ['Diabetes', 'other', 'Neoplasms', 'circulatory', 'Respiratory',\n",
    "       'Injury', 'Musculoskeletal', 'Digestive', 'Genitourinary']"
   ]
  },
  {
   "cell_type": "markdown",
   "id": "bbd5472b",
   "metadata": {},
   "source": [
    "## Diagnosis_1"
   ]
  },
  {
   "cell_type": "code",
   "execution_count": 115,
   "id": "66f5b6e0",
   "metadata": {},
   "outputs": [
    {
     "name": "stdout",
     "output_type": "stream",
     "text": [
      "A1Cresult                 : Significant\n",
      "admission_source_id       : Significant\n",
      "admission_type_id         : Significant\n",
      "age                       : Significant\n",
      "change                    : Significant\n",
      "chlorpropamide            : Significant\n",
      "diabetesMed               : Significant\n",
      "diagnosis_1               : Significant\n",
      "diagnosis_2               : Significant\n",
      "diagnosis_3               : Significant\n",
      "discharge_disposition_id  : Significant\n",
      "gender                    : Significant\n",
      "glimepiride               : Significant\n",
      "glipizide                 : Significant\n",
      "glyburide                 : Significant\n",
      "glyburide-metformin       : Significant\n",
      "insulin                   : Significant\n",
      "max_glu_serum             : Significant\n",
      "medical_specialty         : Significant\n",
      "metformin                 : Significant\n",
      "metformin-pioglitazone    : Significant\n",
      "nateglinide               : Significant\n",
      "patient_nbr               : Significant\n",
      "payer_code                : Significant\n",
      "pioglitazone              : Significant\n",
      "race                      : Significant\n",
      "readmitted                : Significant\n",
      "repaglinide               : Significant\n",
      "rosiglitazone             : Significant\n"
     ]
    }
   ],
   "source": [
    "for feature in df.columns.difference(numeric_features)[:-1]:\n",
    "    p_value = stats.chi2_contingency(pd.crosstab(df[feature],df['diagnosis_1']))[1]\n",
    "    result = {True : \"Significant\",False : \"Insignificant\"}[p_value < 0.05]\n",
    "    if result == 'Significant':\n",
    "        print(f\"{feature:25s} : {result}\")"
   ]
  },
  {
   "cell_type": "code",
   "execution_count": 116,
   "id": "ab3c7181",
   "metadata": {},
   "outputs": [
    {
     "name": "stdout",
     "output_type": "stream",
     "text": [
      "A1Cresult                 : Significant\n",
      "admission_source_id       : Significant\n",
      "admission_type_id         : Significant\n",
      "age                       : Significant\n",
      "change                    : Significant\n",
      "chlorpropamide            : Significant\n",
      "diabetesMed               : Significant\n",
      "diagnosis_1               : Significant\n",
      "diagnosis_2               : Significant\n",
      "diagnosis_3               : Significant\n",
      "discharge_disposition_id  : Significant\n",
      "gender                    : Significant\n",
      "glimepiride               : Significant\n",
      "glipizide                 : Significant\n",
      "glyburide                 : Significant\n",
      "glyburide-metformin       : Significant\n",
      "insulin                   : Significant\n",
      "max_glu_serum             : Significant\n",
      "medical_specialty         : Significant\n",
      "metformin                 : Significant\n",
      "patient_nbr               : Significant\n",
      "payer_code                : Significant\n",
      "pioglitazone              : Significant\n",
      "race                      : Significant\n",
      "readmitted                : Significant\n",
      "repaglinide               : Significant\n",
      "rosiglitazone             : Significant\n"
     ]
    }
   ],
   "source": [
    "for feature in df.columns.difference(numeric_features)[:-1]:\n",
    "    p_value = stats.chi2_contingency(pd.crosstab(df[feature],df['diagnosis_2']))[1]\n",
    "    result = {True : \"Significant\",False : \"Insignificant\"}[p_value < 0.05]\n",
    "    if result == 'Significant':\n",
    "        print(f\"{feature:25s} : {result}\")"
   ]
  },
  {
   "cell_type": "code",
   "execution_count": 117,
   "id": "f1122a4c",
   "metadata": {},
   "outputs": [
    {
     "name": "stdout",
     "output_type": "stream",
     "text": [
      "A1Cresult                 : Significant\n",
      "admission_source_id       : Significant\n",
      "admission_type_id         : Significant\n",
      "age                       : Significant\n",
      "change                    : Significant\n",
      "diabetesMed               : Significant\n",
      "diagnosis_1               : Significant\n",
      "diagnosis_2               : Significant\n",
      "diagnosis_3               : Significant\n",
      "discharge_disposition_id  : Significant\n",
      "gender                    : Significant\n",
      "glimepiride               : Significant\n",
      "glipizide                 : Significant\n",
      "glyburide                 : Significant\n",
      "glyburide-metformin       : Significant\n",
      "insulin                   : Significant\n",
      "max_glu_serum             : Significant\n",
      "medical_specialty         : Significant\n",
      "metformin                 : Significant\n",
      "patient_nbr               : Significant\n",
      "payer_code                : Significant\n",
      "pioglitazone              : Significant\n",
      "race                      : Significant\n",
      "readmitted                : Significant\n",
      "repaglinide               : Significant\n",
      "rosiglitazone             : Significant\n"
     ]
    }
   ],
   "source": [
    "for feature in df.columns.difference(numeric_features)[:-1]:\n",
    "    p_value = stats.chi2_contingency(pd.crosstab(df[feature],df['diagnosis_3']))[1]\n",
    "    result = {True : \"Significant\",False : \"Insignificant\"}[p_value < 0.05]\n",
    "    if result == 'Significant':\n",
    "        print(f\"{feature:25s} : {result}\")"
   ]
  },
  {
   "cell_type": "code",
   "execution_count": 118,
   "id": "14f16071",
   "metadata": {},
   "outputs": [
    {
     "name": "stdout",
     "output_type": "stream",
     "text": [
      "num_lab_procedures        : Significant\n",
      "num_medications           : Significant\n",
      "num_procedures            : Significant\n",
      "number_diagnoses          : Significant\n",
      "number_emergency          : Significant\n",
      "number_inpatient          : Significant\n",
      "number_outpatient         : Significant\n",
      "time_in_hospital          : Significant\n"
     ]
    }
   ],
   "source": [
    "for feature in numeric_features:\n",
    "    annova = []\n",
    "    for category in categories:\n",
    "        annova.append(df[df['diagnosis_1'] == category][feature].values)\n",
    "    p_value = stats.f_oneway(*annova)[1]\n",
    "    result = {True : \"Significant\",False : \"Insignificant\"}[p_value < 0.05]\n",
    "    print(f\"{feature:25s} : {result}\")\n",
    "    annova = []"
   ]
  },
  {
   "cell_type": "markdown",
   "id": "30259493",
   "metadata": {},
   "source": [
    "## Diagnosis_2"
   ]
  },
  {
   "cell_type": "code",
   "execution_count": 119,
   "id": "e4e72989",
   "metadata": {},
   "outputs": [
    {
     "name": "stdout",
     "output_type": "stream",
     "text": [
      "num_lab_procedures        : Significant\n",
      "num_medications           : Significant\n",
      "num_procedures            : Significant\n",
      "number_diagnoses          : Significant\n",
      "number_emergency          : Significant\n",
      "number_inpatient          : Significant\n",
      "number_outpatient         : Significant\n",
      "time_in_hospital          : Significant\n"
     ]
    }
   ],
   "source": [
    "categories = ['Diabetes', 'other', 'Neoplasms', 'circulatory', 'Respiratory',\n",
    "       'Injury', 'Musculoskeletal', 'Digestive', 'Genitourinary']\n",
    "\n",
    "for feature in numeric_features:\n",
    "    annova = []\n",
    "    for category in categories:\n",
    "        annova.append(df[df['diagnosis_2'] == category][feature].values)\n",
    "    p_value = stats.f_oneway(*annova)[1]\n",
    "    result = {True : \"Significant\",False : \"Insignificant\"}[p_value < 0.05]\n",
    "    print(f\"{feature:25s} : {result}\")\n",
    "    annova = []"
   ]
  },
  {
   "cell_type": "markdown",
   "id": "af3abc1b",
   "metadata": {},
   "source": [
    "## Diagnosis_3"
   ]
  },
  {
   "cell_type": "code",
   "execution_count": 120,
   "id": "fdfa5aff",
   "metadata": {},
   "outputs": [
    {
     "name": "stdout",
     "output_type": "stream",
     "text": [
      "num_lab_procedures        : Significant\n",
      "num_medications           : Significant\n",
      "num_procedures            : Significant\n",
      "number_diagnoses          : Significant\n",
      "number_emergency          : Significant\n",
      "number_inpatient          : Significant\n",
      "number_outpatient         : Significant\n",
      "time_in_hospital          : Significant\n"
     ]
    }
   ],
   "source": [
    "categories = ['Diabetes', 'other', 'Neoplasms', 'circulatory', 'Respiratory',\n",
    "       'Injury', 'Musculoskeletal', 'Digestive', 'Genitourinary']\n",
    "\n",
    "for feature in numeric_features:\n",
    "    annova = []\n",
    "    for category in categories:\n",
    "        annova.append(df[df['diagnosis_3'] == category][feature].values)\n",
    "    p_value = stats.f_oneway(*annova)[1]\n",
    "    result = {True : \"Significant\",False : \"Insignificant\"}[p_value < 0.05]\n",
    "    print(f\"{feature:25s} : {result}\")\n",
    "    annova = []"
   ]
  },
  {
   "cell_type": "markdown",
   "id": "6cb40e7c",
   "metadata": {},
   "source": [
    "### `Preparing Data for Imputation`"
   ]
  },
  {
   "cell_type": "code",
   "execution_count": 121,
   "id": "25780a14",
   "metadata": {},
   "outputs": [
    {
     "name": "stdout",
     "output_type": "stream",
     "text": [
      "diagnosis_1          20\n",
      "diagnosis_2          356\n",
      "diagnosis_3          1421\n",
      "race                 2124\n",
      "num_lab_procedures   0\n",
      "num_medications      0\n",
      "num_procedures       0\n",
      "number_diagnoses     0\n",
      "number_emergency     0\n",
      "number_inpatient     0\n",
      "number_outpatient    0\n",
      "time_in_hospital     0\n"
     ]
    }
   ],
   "source": [
    "encoder_diagnosis = LabelEncoder()\n",
    "encoder_race = LabelEncoder()\n",
    "encoder_diagnosis.fit(df['diagnosis_1'])\n",
    "encoder_race.fit(df['race'])\n",
    "\n",
    "\n",
    "mask = df[['diagnosis_1','diagnosis_2',\n",
    "                'diagnosis_3','race']].isnull()\n",
    "\n",
    "diagnosis = df[['diagnosis_1','diagnosis_2',\n",
    "                'diagnosis_3','race']].apply(lambda x : encoder_diagnosis.fit_transform(x) if 'diagnosis' in x else \n",
    "                                             encoder_race.fit_transform(x))\n",
    "\n",
    "diagnosis = diagnosis.where(~mask,df[['diagnosis_1','diagnosis_2',\n",
    "                                      'diagnosis_3','race']])\n",
    "\n",
    "numeric = df[numeric_features]\n",
    "diagnosis_impute = pd.concat([diagnosis,numeric],axis=1)\n",
    "\n",
    "\n",
    "for i in diagnosis_impute:\n",
    "    print(f\"{i:20s}\",diagnosis_impute[i].isnull().sum())"
   ]
  },
  {
   "cell_type": "code",
   "execution_count": null,
   "id": "0b9f5f4e",
   "metadata": {},
   "outputs": [],
   "source": [
    "# link_race = 'F:\\GREAT LAKES\\PROJECT\\CAPSTONE\\Iterative_Imputatiof_diagnosis\\Encoder_race.pickle'\n",
    "# link_diagnosis = 'F:\\GREAT LAKES\\PROJECT\\CAPSTONE\\Iterative_Imputatiof_diagnosis\\Encoder_diagnosis.pickle'"
   ]
  },
  {
   "cell_type": "code",
   "execution_count": 122,
   "id": "15de8d62",
   "metadata": {},
   "outputs": [],
   "source": [
    "# for link,encoder in zip([link_race,link_diagnosis],[encoder_race,encoder_diagnosis]):\n",
    "    # with open(link,'wb') as tr:\n",
    "        # pickle.dump(encoder,tr)"
   ]
  },
  {
   "cell_type": "code",
   "execution_count": null,
   "id": "d14395de",
   "metadata": {},
   "outputs": [],
   "source": [
    "from sklearn.experimental.enable_iterative_imputer import IterativeImputer\n",
    "iterative_impute = IterativeImputer(estimator=KNeighborsClassifier(n_neighbors=7,\n",
    "                                                                   weights='distance'),\n",
    "                                    n_nearest_features=8,\n",
    "                                    initial_strategy='most_frequent')"
   ]
  },
  {
   "cell_type": "code",
   "execution_count": null,
   "id": "a8da4877",
   "metadata": {},
   "outputs": [],
   "source": [
    "imputed = iterative_impute.fit_transform(diagnosis_impute) "
   ]
  },
  {
   "cell_type": "code",
   "execution_count": null,
   "id": "5a652e00",
   "metadata": {},
   "outputs": [],
   "source": [
    "# Pickling the imputer\n",
    "\n",
    "# link = 'F:\\GREAT LAKES\\PROJECT\\CAPSTONE\\Iterative_Imputatiof_diagnosis\\Iterative_imputer.pickle'\n",
    "\n",
    "# import pickle\n",
    "# with open(link,'wb') as imp:\n",
    "   # pickle.dump(imputed,imp)"
   ]
  },
  {
   "cell_type": "code",
   "execution_count": null,
   "id": "47fd83f4",
   "metadata": {},
   "outputs": [],
   "source": [
    "for i in range(4):\n",
    "    print(\"Number of unique values : \",len(np.unique(imputed[:,i])))"
   ]
  },
  {
   "cell_type": "code",
   "execution_count": null,
   "id": "b2cec021",
   "metadata": {},
   "outputs": [],
   "source": [
    "imputed.shape"
   ]
  },
  {
   "cell_type": "code",
   "execution_count": null,
   "id": "66440f48",
   "metadata": {},
   "outputs": [],
   "source": [
    "temp = pd.DataFrame(data=imputed[:,[0,1,2,3]].astype(int),\n",
    "                                 columns=['diagnosis_1','diagnosis_2',\n",
    "                                          'diagnosis_3','race'])\n",
    "final = pd.DataFrame(columns=['diagnosis_1','diagnosis_2','diagnosis_3','race'])\n",
    "\n",
    "for column in ['diagnosis_1','diagnosis_2','diagnosis_3','race']:\n",
    "    if column != 'race':\n",
    "        final[column] = encoder_diagnosis.inverse_transform(temp[column])\n",
    "    if column == 'race':\n",
    "        final[column] = encoder_race.inverse_transform(temp[column])\n",
    "\n",
    "imputed_diagnosis_df = final.copy()"
   ]
  },
  {
   "cell_type": "code",
   "execution_count": null,
   "id": "f1034ce4",
   "metadata": {},
   "outputs": [],
   "source": [
    "imputed_diagnosis_df.isnull().sum()"
   ]
  },
  {
   "cell_type": "code",
   "execution_count": null,
   "id": "53d4c701",
   "metadata": {},
   "outputs": [],
   "source": [
    "imputed_diagnosis_df.shape"
   ]
  },
  {
   "cell_type": "code",
   "execution_count": null,
   "id": "48a4b7a0",
   "metadata": {},
   "outputs": [],
   "source": [
    "diagnosis_imputed = pd.concat([imputed_diagnosis_df,diagnosis_impute[patient_info_numeric].reset_index(drop=True)],axis=1)"
   ]
  },
  {
   "cell_type": "code",
   "execution_count": null,
   "id": "08d98cce",
   "metadata": {},
   "outputs": [],
   "source": [
    "diagnosis_imputed.isnull().sum()"
   ]
  },
  {
   "cell_type": "code",
   "execution_count": null,
   "id": "b89cdacf",
   "metadata": {},
   "outputs": [],
   "source": [
    "diagnosis_imputed.shape"
   ]
  },
  {
   "cell_type": "code",
   "execution_count": null,
   "id": "21e72897",
   "metadata": {},
   "outputs": [],
   "source": [
    "Imputed_full_data = diagnosis_imputed.copy()"
   ]
  },
  {
   "cell_type": "code",
   "execution_count": null,
   "id": "34d9cecb",
   "metadata": {},
   "outputs": [],
   "source": [
    "Imputed_full_data.shape"
   ]
  },
  {
   "cell_type": "code",
   "execution_count": null,
   "id": "24664607",
   "metadata": {},
   "outputs": [],
   "source": [
    "Fully_Imputed_data = df.copy()"
   ]
  },
  {
   "cell_type": "code",
   "execution_count": null,
   "id": "40efc423",
   "metadata": {},
   "outputs": [],
   "source": [
    "Fully_Imputed_data.shape"
   ]
  },
  {
   "cell_type": "code",
   "execution_count": null,
   "id": "5a58106b",
   "metadata": {},
   "outputs": [],
   "source": [
    "Fully_Imputed_data[['diagnosis_1','diagnosis_2','diagnosis_3','race']+patient_info_numeric] = Imputed_full_data"
   ]
  },
  {
   "cell_type": "code",
   "execution_count": null,
   "id": "19e84d59",
   "metadata": {},
   "outputs": [],
   "source": [
    "feature_shuffle_full = ['encounter_id', 'patient_nbr', 'race', 'gender', 'age', 'weight',\n",
    "       'admission_type_id', 'discharge_disposition_id', 'admission_source_id',\n",
    "       'payer_code', 'medical_specialty',\n",
    "       'diagnosis_1', 'diagnosis_2', 'diagnosis_3',\n",
    "       'max_glu_serum', 'A1Cresult', 'metformin', 'repaglinide', 'nateglinide',\n",
    "       'chlorpropamide', 'glimepiride', 'acetohexamide', 'glipizide',\n",
    "       'glyburide', 'tolbutamide', 'pioglitazone', 'rosiglitazone', 'acarbose',\n",
    "       'miglitol', 'troglitazone', 'tolazamide', 'examide', 'citoglipton',\n",
    "       'insulin', 'glyburide-metformin', 'glipizide-metformin',\n",
    "       'glimepiride-pioglitazone', 'metformin-rosiglitazone',\n",
    "       'metformin-pioglitazone', 'change', 'diabetesMed','time_in_hospital',\n",
    "       'num_lab_procedures', 'num_procedures', 'num_medications',\n",
    "       'number_outpatient', 'number_emergency', 'number_inpatient','number_diagnoses',\n",
    "                        'readmitted']"
   ]
  },
  {
   "cell_type": "code",
   "execution_count": null,
   "id": "c270fc7c",
   "metadata": {},
   "outputs": [],
   "source": [
    "Fully_Imputed_data_new = Fully_Imputed_data[feature_shuffle_full]"
   ]
  },
  {
   "cell_type": "code",
   "execution_count": null,
   "id": "9ce97440",
   "metadata": {},
   "outputs": [],
   "source": [
    "link = 'F:\\GREAT LAKES\\PROJECT\\CAPSTONE\\Iterative_Imputatiof_diagnosis\\Fully_finally_imputed_data.csv'\n",
    "Fully_Imputed_data_new.to_csv(link)"
   ]
  },
  {
   "cell_type": "markdown",
   "id": "da9b5daa",
   "metadata": {},
   "source": [
    "### `Preparing data for Tree and Ensemble`"
   ]
  },
  {
   "cell_type": "markdown",
   "id": "63980013",
   "metadata": {},
   "source": [
    "### `dropping 7 medicine attributes + 4 patient information`"
   ]
  },
  {
   "cell_type": "code",
   "execution_count": null,
   "id": "435bcd97",
   "metadata": {},
   "outputs": [],
   "source": [
    "df_tree = Fully_Imputed_data.copy()"
   ]
  },
  {
   "cell_type": "code",
   "execution_count": null,
   "id": "8fb40114",
   "metadata": {},
   "outputs": [],
   "source": [
    "print(\"-\"*30)\n",
    "print(\"Attributes to be removed\")\n",
    "print(\"-\"*30)\n",
    "print(*drop_list_patient_info,*drop_list_medicine,sep='\\n')\n",
    "print(\"-\"*30)"
   ]
  },
  {
   "cell_type": "code",
   "execution_count": null,
   "id": "fb2859d6",
   "metadata": {},
   "outputs": [],
   "source": [
    "df_tree = df_tree.drop(columns=drop_list_patient_info+drop_list_medicine)"
   ]
  },
  {
   "cell_type": "code",
   "execution_count": null,
   "id": "707c3d66",
   "metadata": {},
   "outputs": [],
   "source": [
    "df_tree.shape"
   ]
  },
  {
   "cell_type": "markdown",
   "id": "2a9d3080",
   "metadata": {},
   "source": [
    "## `Data Preparation (Encoding for Decision_Tree, KNN)`"
   ]
  },
  {
   "cell_type": "markdown",
   "id": "b831eb13",
   "metadata": {},
   "source": [
    "### `Different encoding for different independent categories`"
   ]
  },
  {
   "cell_type": "code",
   "execution_count": null,
   "id": "c358c448",
   "metadata": {},
   "outputs": [],
   "source": [
    "patient_info = ['race', 'gender', 'age', 'admission_type_id',\n",
    "                'discharge_disposition_id','admission_source_id',\n",
    "                'medical_specialty','diagnosis_1','diagnosis_2', 'diagnosis_3',\n",
    "                'max_glu_serum', 'A1Cresult','change', 'diabetesMed']\n",
    "\n",
    "# Features which contains no information\n",
    "drop_list_patient_info = ['encounter_id','patient_nbr','weight','payer_code']\n",
    "\n",
    "# Numeric features\n",
    "patient_info_numeric = ['time_in_hospital','num_lab_procedures',\n",
    "                        'num_procedures','num_medications',\n",
    "                        'number_outpatient','number_emergency',\n",
    "                        'number_inpatient','number_diagnoses']\n",
    "\n",
    "# Taking initial decision to keep 16 features\n",
    "feature_medicine = ['metformin','repaglinide', 'nateglinide', \n",
    "                     'chlorpropamide', 'glimepiride', 'glipizide', \n",
    "                     'glyburide', 'tolbutamide','pioglitazone',\n",
    "                     'rosiglitazone', 'acarbose', 'miglitol','tolazamide',\n",
    "                     'insulin','glyburide-metformin', 'glipizide-metformin']\n",
    "\n",
    "# Initial decision to remove 7 features\n",
    "drop_list_medicine = ['acetohexamide','troglitazone','examide','citoglipton',\n",
    "                      'glimepiride-pioglitazone','metformin-rosiglitazone',\n",
    "                      'metformin-pioglitazone']\n",
    "\n",
    "\n",
    "# The medicines which contains 'Steady' & 'No' for encoding purpose\n",
    "two_category_medicine = ['acetohexamide', 'tolbutamide', 'troglitazone',\n",
    "                         'glipizide-metformin', 'glimepiride-pioglitazone',\n",
    "                         'metformin-rosiglitazone', 'metformin-pioglitazone']\n",
    "# ------------------------------------------------------------------\n",
    "# The medicines which contains 'Steady','Up','Down' & 'No' for encoding purpose (14)\n",
    "four_category_medicine = ['metformin','repaglinide', 'nateglinide', 'chlorpropamide',\n",
    "                          'glimepiride','glipizide','glyburide','pioglitazone','rosiglitazone',\n",
    "                          'acarbose','miglitol','tolazamide','insulin','glyburide-metformin'] \n",
    "# ------------------------------------------------------------------\n",
    "# considering these two medicines with only 'steady' & 'No' categories for encoding purpose\n",
    "two_category_medicine_to_be_kept = ['tolbutamide','glipizide-metformin']\n",
    "# ------------------------------------------------------------------                                                \n",
    "# Out of initial removal decision, these 2 are compulsorily removed.\n",
    "single_category_medicine = ['examide', 'citoglipton']\n",
    "                                             \n",
    "\n",
    "print(set(drop_list_medicine) & set(two_category_medicine))\n",
    "\n",
    "dependent = 'readmitted'"
   ]
  },
  {
   "cell_type": "code",
   "execution_count": null,
   "id": "fa8c4b7c",
   "metadata": {},
   "outputs": [],
   "source": [
    "# 16 Medicines\n",
    "Medicine = feature_medicine.copy()\n",
    "categories_all = [['No','Down','Steady','Up'] for  i in range(len(feature_medicine))]\n",
    "Medicine_encode = OrdinalEncoder(categories=categories_all)\n",
    "\n",
    "# 17th feature \n",
    "serum = ['max_glu_serum']\n",
    "serum_encode = OrdinalEncoder(categories=[['None','Norm','>200','>300']])\n",
    "\n",
    "# 18th feature\n",
    "HBA1c = ['A1Cresult']\n",
    "HBA1c_encode = OrdinalEncoder(categories=[['None','Norm','>7','>8']])\n",
    "\n",
    "# 19th feature\n",
    "age = ['age']\n",
    "age_encode = OrdinalEncoder(categories=[df['age'].unique().tolist()])\n",
    "\n",
    "# 20th \n",
    "gender = ['gender']\n",
    "gender_encode = OrdinalEncoder(categories=[['Female','Male']])\n",
    "\n",
    "# 18th \n",
    "change = ['change']\n",
    "change_encode = OrdinalEncoder(categories=[['No', 'Ch']])\n",
    "\n",
    "# 21th\n",
    "diabetes = ['diabetesMed']\n",
    "diabetes_encode = OrdinalEncoder(categories=[['No', 'Yes']])\n",
    "\n",
    "# The 22-29 categorical features in which the levels are independent \n",
    "\n",
    "Independent = ['race','medical_specialty','diagnosis_1','diagnosis_2','diagnosis_3',\n",
    "                   'admission_type_id','discharge_disposition_id','admission_source_id']\n",
    "Independent_encode = OrdinalEncoder()\n",
    "\n",
    "# 30-38th feature\n",
    "# Considering 8 numerical features into consideration\n",
    "# Total 39 categories considered for Encoding\n",
    "\n",
    "# 39th feature\n",
    "Target = ['readmitted']\n",
    "Target_encode = OrdinalEncoder(categories=[['No','Yes']])\n",
    "\n",
    "total_transformation = Medicine + serum + HBA1c + age + gender + change + diabetes + Independent + Target"
   ]
  },
  {
   "cell_type": "code",
   "execution_count": null,
   "id": "e8c209a4",
   "metadata": {},
   "outputs": [],
   "source": [
    "len(total_transformation+patient_info_numeric)"
   ]
  },
  {
   "cell_type": "code",
   "execution_count": null,
   "id": "d3cf3e6e",
   "metadata": {},
   "outputs": [],
   "source": [
    "# Column transformer with 6 transformations passed\n",
    "\n",
    "transformation = [('Medicine',Medicine_encode,Medicine),\n",
    "                  ('Serum',serum_encode,serum),\n",
    "                  ('HBA1c',HBA1c_encode,HBA1c),\n",
    "                  ('age',age_encode,age),\n",
    "                  ('gender',gender_encode,gender),\n",
    "                  ('change',change_encode,change),\n",
    "                  ('Diabetes',diabetes_encode,diabetes),\n",
    "                 ('independent',Independent_encode,Independent),\n",
    "                 ('Target',Target_encode,Target)]"
   ]
  },
  {
   "cell_type": "code",
   "execution_count": null,
   "id": "2952fa7e",
   "metadata": {},
   "outputs": [],
   "source": [
    "# concatenating all data df_KNN(dummy encoding), Transformed data & Target\n",
    "\n",
    "trf_tree = ColumnTransformer(transformers=transformation,remainder='passthrough')\n",
    "\n",
    "Tree_Data = trf_tree.fit_transform(df_tree[total_transformation+patient_info_numeric])"
   ]
  },
  {
   "cell_type": "code",
   "execution_count": null,
   "id": "434400e8",
   "metadata": {},
   "outputs": [],
   "source": [
    "# link_trf = r'F:\\GREAT LAKES\\PROJECT\\CAPSTONE\\Iterative_Imputatiof_diagnosis\\Numeric_Transformer.pickle'"
   ]
  },
  {
   "cell_type": "code",
   "execution_count": null,
   "id": "3500c971",
   "metadata": {},
   "outputs": [],
   "source": [
    "# import pickle\n",
    "# with open(link_trf,'wb') as trf:\n",
    "    # pickle.dump(trf_tree,trf)"
   ]
  },
  {
   "cell_type": "code",
   "execution_count": null,
   "id": "28d3d5a6",
   "metadata": {},
   "outputs": [],
   "source": [
    "Tree_Data.shape"
   ]
  },
  {
   "cell_type": "code",
   "execution_count": null,
   "id": "aec1fef1",
   "metadata": {},
   "outputs": [],
   "source": [
    "len(total_transformation + patient_info_numeric)"
   ]
  },
  {
   "cell_type": "code",
   "execution_count": null,
   "id": "a52b60ab",
   "metadata": {},
   "outputs": [],
   "source": [
    "df_tree = pd.DataFrame(Tree_Data,columns=total_transformation + patient_info_numeric)"
   ]
  },
  {
   "cell_type": "code",
   "execution_count": null,
   "id": "215c5a39",
   "metadata": {},
   "outputs": [],
   "source": [
    "# putting target at the last\n",
    "\n",
    "feature_shuffle = ['metformin', 'repaglinide', 'nateglinide', 'chlorpropamide',\n",
    "       'glimepiride', 'glipizide', 'glyburide', 'tolbutamide', 'pioglitazone',\n",
    "       'rosiglitazone', 'acarbose', 'miglitol', 'tolazamide', 'insulin',\n",
    "       'glyburide-metformin', 'glipizide-metformin', 'max_glu_serum',\n",
    "       'A1Cresult', 'age', 'gender', 'change', 'diabetesMed', 'race',\n",
    "       'medical_specialty', 'diagnosis_1', 'diagnosis_2', 'diagnosis_3',\n",
    "       'admission_type_id', 'discharge_disposition_id', 'admission_source_id',\n",
    "       'time_in_hospital', 'num_lab_procedures','num_procedures', 'num_medications',\n",
    "        'number_outpatient','number_emergency', 'number_inpatient', 'number_diagnoses',\n",
    "        'readmitted']"
   ]
  },
  {
   "cell_type": "code",
   "execution_count": null,
   "id": "4c8128ef",
   "metadata": {},
   "outputs": [],
   "source": [
    "Final_data_for_Tree = df_tree[feature_shuffle].astype(int)"
   ]
  },
  {
   "cell_type": "code",
   "execution_count": null,
   "id": "dee4c346",
   "metadata": {},
   "outputs": [],
   "source": [
    "# link1 = 'F:\\GREAT LAKES\\PROJECT\\CAPSTONE\\Iterative_Imputatiof_diagnosis\\Fully_prepared_data_for_Tree_&_Ensemble.csv'\n",
    "# Final_data_for_Tree.to_csv(link1)"
   ]
  },
  {
   "cell_type": "markdown",
   "id": "b1fe899f",
   "metadata": {},
   "source": [
    "## `User defined Functions`"
   ]
  },
  {
   "cell_type": "code",
   "execution_count": null,
   "id": "b0535e87",
   "metadata": {},
   "outputs": [],
   "source": [
    "def hold_out_validation_report(fitted_model,X_train,X_test,y_train,y_test):\n",
    "    \n",
    "    confusion_mat = confusion_matrix(y_test,fitted_model.predict(X_test))\n",
    "    \n",
    "    print(confusion_mat)\n",
    "    print(\"-\"*50)\n",
    "    train_accuracy = accuracy_score(y_train,fitted_model.predict(X_train))\n",
    "    test_accuracy = accuracy_score(y_test,fitted_model.predict(X_test))\n",
    "    \n",
    "    print(f\"Training Accuracy : {train_accuracy*100:0.2f}\")\n",
    "    print(f\"Validation Accuracy : {test_accuracy*100:0.2f}\")\n",
    "    print(\"-\"*50)\n",
    "    train_precision = precision_score(y_train,fitted_model.predict(X_train))\n",
    "    test_precision = precision_score(y_test,fitted_model.predict(X_test))\n",
    "    \n",
    "    print(f\"Precision (Training) : {train_precision*100:0.2f}\")\n",
    "    print(f\"Precision (Validation) : {test_precision*100:0.2f}\")\n",
    "    print(\"-\"*50)\n",
    "    train_recall = recall_score(y_train,fitted_model.predict(X_train))\n",
    "    test_recall = recall_score(y_test,fitted_model.predict(X_test))\n",
    "    \n",
    "    print(f\"Recall (Training) : {train_recall*100:0.2f}\")\n",
    "    print(f\"Recall (Validation) : {test_recall*100:0.2f}\")\n",
    "    print(\"-\"*50)\n",
    "    \n",
    "    train_f1 = f1_score(y_train,fitted_model.predict(X_train))\n",
    "    test_f1 = f1_score(y_test,fitted_model.predict(X_test)) \n",
    "    \n",
    "    print(f\"F1 score (Training) : {train_f1*100:0.2f}\")\n",
    "    print(f\"F1 score (validation) : {test_f1*100:0.2f}\")\n",
    "    print(\"-\"*50)\n",
    "    \n",
    "    train_baccuracy = balanced_accuracy_score(y_train,fitted_model.predict(X_train))\n",
    "    test_baccuracy = balanced_accuracy_score(y_test,fitted_model.predict(X_test))\n",
    "    \n",
    "    print(f\"Balanced Accuracy (Training): {train_accuracy*100:0.2f}\")\n",
    "    print(f\"Balanced Accuracy (Validation): {test_accuracy*100:0.2f}\")"
   ]
  },
  {
   "cell_type": "code",
   "execution_count": null,
   "id": "5ace542c",
   "metadata": {},
   "outputs": [],
   "source": [
    "def features_selector_model(model,features,Target):\n",
    "    X_tr, X_ts, y_tr, y_ts = train_test_split(features,Target,test_size=0.20, random_state=55)\n",
    "    model.fit(X_tr,y_tr)\n",
    "    confusion_mat = confusion_matrix(y_ts,model.predict(X_ts))\n",
    "    print(confusion_mat)\n",
    "    print(\"-\"*50)\n",
    "    train_accuracy = accuracy_score(y_tr,model.predict(X_tr))\n",
    "    test_accuracy = accuracy_score(y_ts,model.predict(X_ts))\n",
    "    \n",
    "    print(f\"Training Accuracy : {train_accuracy*100:0.2f}\")\n",
    "    print(f\"Validation Accuracy : {test_accuracy*100:0.2f}\")\n",
    "    print(\"-\"*50)\n",
    "    train_precision = precision_score(y_tr,model.predict(X_tr))\n",
    "    test_precision = precision_score(y_ts,model.predict(X_ts))\n",
    "    \n",
    "    print(f\"Precision (Training) : {train_precision*100:0.2f}\")\n",
    "    print(f\"Precision (Validation) : {test_precision*100:0.2f}\")\n",
    "    print(\"-\"*50)\n",
    "    train_recall = recall_score(y_tr,model.predict(X_tr))\n",
    "    test_recall = recall_score(y_ts,model.predict(X_ts))\n",
    "    \n",
    "    print(f\"Recall (Training) : {train_recall*100:0.2f}\")\n",
    "    print(f\"Recall (Validation) : {test_recall*100:0.2f}\")\n",
    "    print(\"-\"*50)\n",
    "    \n",
    "    train_f1 = f1_score(y_tr,model.predict(X_tr))\n",
    "    test_f1 = f1_score(y_ts,model.predict(X_ts)) \n",
    "    \n",
    "    print(f\"F1 score (Training) : {train_f1*100:0.2f}\")\n",
    "    print(f\"F1 score (validation) : {test_f1*100:0.2f}\")\n",
    "    print(\"-\"*50)\n",
    "    \n",
    "    train_baccuracy = balanced_accuracy_score(y_tr,model.predict(X_tr))\n",
    "    test_baccuracy = balanced_accuracy_score(y_ts,model.predict(X_ts))\n",
    "    \n",
    "    print(f\"Balanced Accuracy (Training): {train_accuracy*100:0.2f}\")\n",
    "    print(f\"Balanced Accuracy (Validation): {test_accuracy*100:0.2f}\")"
   ]
  },
  {
   "cell_type": "code",
   "execution_count": null,
   "id": "15775272",
   "metadata": {},
   "outputs": [],
   "source": [
    "def cv_report(model,features=None,Target=None):\n",
    "    Scv = StratifiedKFold(n_splits=5, shuffle=True, random_state=45)\n",
    "    X_tr, X_ts, y_tr, y_ts = train_test_split(features,Target,test_size=0.20, random_state=102)\n",
    "    model.fit(X_tr,y_tr)\n",
    "    confusion_mat = confusion_matrix(y_ts,model.predict(X_ts))\n",
    "    cv_accuracy = cross_val_score(model,X_tr,y_tr,cv=Scv,scoring='accuracy').mean()\n",
    "    print(f\"Cross validation Accuracy : {cv_accuracy*100:0.2f}\")\n",
    "    print(\"-\"*50)\n",
    "    cv_precison = cross_val_score(model,X_tr,y_tr,cv=Scv,scoring='precision').mean()\n",
    "    print(f\"Cross validation Precision : {cv_precison*100:0.2f}\")\n",
    "    print(\"-\"*50)\n",
    "    cv_recall = cross_val_score(model,X_tr,y_tr,cv=Scv,scoring='recall').mean()\n",
    "    print(f\"Cross validation Recall : {cv_recall*100:0.2f}\")\n",
    "    print(\"-\"*50)\n",
    "    cv_f1 = cross_val_score(model,X_tr,y_tr,cv=Scv,scoring='f1').mean()\n",
    "    print(f\"Cross validation f1 : {cv_f1*100:0.2f}\")"
   ]
  }
 ],
 "metadata": {
  "kernelspec": {
   "display_name": "Python 3",
   "language": "python",
   "name": "python3"
  },
  "language_info": {
   "codemirror_mode": {
    "name": "ipython",
    "version": 3
   },
   "file_extension": ".py",
   "mimetype": "text/x-python",
   "name": "python",
   "nbconvert_exporter": "python",
   "pygments_lexer": "ipython3",
   "version": "3.8.8"
  }
 },
 "nbformat": 4,
 "nbformat_minor": 5
}
